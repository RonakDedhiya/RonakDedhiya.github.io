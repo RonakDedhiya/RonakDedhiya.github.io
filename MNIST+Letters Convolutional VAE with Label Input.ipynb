{
 "cells": [
  {
   "cell_type": "markdown",
   "metadata": {},
   "source": [
    "### Load Library"
   ]
  },
  {
   "cell_type": "code",
   "execution_count": 11,
   "metadata": {
    "colab": {
     "autoexec": {
      "startup": false,
      "wait_interval": 0
     }
    },
    "colab_type": "code",
    "id": "Pcme_WDvPQIj"
   },
   "outputs": [],
   "source": [
    "%matplotlib inline\n",
    "import numpy as np\n",
    "import scipy as sp\n",
    "import matplotlib.pyplot as plt\n",
    "import seaborn as sns\n",
    "import pandas as pd\n",
    "sns.set()\n",
    "from sklearn.model_selection import StratifiedKFold\n",
    "from keras.datasets import mnist\n",
    "from keras.models import Sequential, Model\n",
    "from keras.layers import Conv2D, Activation, Dense, Lambda, Input, MaxPooling2D, Dropout, Flatten, Reshape, UpSampling2D, Concatenate\n",
    "from keras.losses import mse, binary_crossentropy\n",
    "from keras import backend as K\n",
    "from keras.utils.vis_utils import plot_model\n",
    "from keras.utils.all_utils import to_categorical\n",
    "import keras"
   ]
  },
  {
   "cell_type": "markdown",
   "metadata": {},
   "source": [
    "### Load Data"
   ]
  },
  {
   "cell_type": "code",
   "execution_count": 2,
   "metadata": {
    "colab": {
     "autoexec": {
      "startup": false,
      "wait_interval": 0
     },
     "base_uri": "https://localhost:8080/",
     "height": 51
    },
    "colab_type": "code",
    "executionInfo": {
     "elapsed": 827,
     "status": "ok",
     "timestamp": 1533600956404,
     "user": {
      "displayName": "Eric Zhang",
      "photoUrl": "https://lh3.googleusercontent.com/a/default-user=s128",
      "userId": "112904065289332618475"
     },
     "user_tz": 300
    },
    "id": "d83FuuGfPQI2",
    "outputId": "27d6706f-2469-4868-eaa5-8cf011e452f9"
   },
   "outputs": [],
   "source": [
    "# Load MNIST\n",
    "(x_train, y_train), (x_test, y_test) = mnist.load_data()\n",
    "x_train = x_train.reshape((-1, 784))\n",
    "x_test = x_test.reshape((-1, 784))"
   ]
  },
  {
   "cell_type": "code",
   "execution_count": 3,
   "metadata": {},
   "outputs": [],
   "source": [
    "letters = np.array(pd.read_csv('archive/A_Z Handwritten Data.csv', header=None))\n",
    "skf = StratifiedKFold(n_splits=2,shuffle=True,random_state=42)\n",
    "a,b = list(skf.split(letters,letters[:,1]))[0]\n",
    "x_train = np.concatenate((x_train, letters[a, 1:]))\n",
    "x_test = np.concatenate((x_test, letters[b, 1:]))\n",
    "y_train = np.concatenate((y_train, letters[a, 0] + 10))\n",
    "y_test = np.concatenate((y_test, letters[b, 0] + 10))"
   ]
  },
  {
   "cell_type": "code",
   "execution_count": 4,
   "metadata": {},
   "outputs": [
    {
     "name": "stdout",
     "output_type": "stream",
     "text": [
      "(246225, 784) (246225, 36)\n",
      "(196226, 784) (196226, 36)\n"
     ]
    }
   ],
   "source": [
    "x_train = x_train.astype('float32') / 255.0\n",
    "x_test = x_test.astype('float32') / 255.0\n",
    "y_train = to_categorical(y_train, 36)\n",
    "y_test = to_categorical(y_test, 36)\n",
    "\n",
    "print(x_train.shape, y_train.shape)\n",
    "print(x_test.shape, y_test.shape)"
   ]
  },
  {
   "cell_type": "markdown",
   "metadata": {},
   "source": [
    "## Training Code"
   ]
  },
  {
   "cell_type": "code",
   "execution_count": 5,
   "metadata": {
    "colab": {
     "autoexec": {
      "startup": false,
      "wait_interval": 0
     }
    },
    "colab_type": "code",
    "id": "4qh4zwCVPQJL"
   },
   "outputs": [],
   "source": [
    "# reparameterization trick\n",
    "# instead of sampling from Q(z|X), sample eps = N(0,I)\n",
    "# z = z_mean + sqrt(var)*eps\n",
    "def sampling(args):\n",
    "    \"\"\"Reparameterization trick by sampling fr an isotropic unit Gaussian.\n",
    "    # Arguments:\n",
    "        args (tensor): mean and log of variance of Q(z|X)\n",
    "    # Returns:\n",
    "        z (tensor): sampled latent vector\n",
    "    \"\"\"\n",
    "    z_mean, z_log_var = args\n",
    "    batch = K.shape(z_mean)[0]\n",
    "    dim = K.int_shape(z_mean)[1]\n",
    "    # by default, random_normal has mean=0 and std=1.0\n",
    "    epsilon = K.random_normal(shape=(batch, dim))\n",
    "    return z_mean + K.exp(0.5 * z_log_var) * epsilon"
   ]
  },
  {
   "cell_type": "code",
   "execution_count": 6,
   "metadata": {
    "colab": {
     "autoexec": {
      "startup": false,
      "wait_interval": 0
     },
     "base_uri": "https://localhost:8080/",
     "height": 1309
    },
    "colab_type": "code",
    "executionInfo": {
     "elapsed": 1258,
     "status": "ok",
     "timestamp": 1533600962363,
     "user": {
      "displayName": "Eric Zhang",
      "photoUrl": "https://lh3.googleusercontent.com/a/default-user=s128",
      "userId": "112904065289332618475"
     },
     "user_tz": 300
    },
    "id": "koDs7qHaPQJP",
    "outputId": "1f9aef81-306b-43a6-80b4-aff1f6e2996c"
   },
   "outputs": [
    {
     "name": "stdout",
     "output_type": "stream",
     "text": [
      "Model: \"encoder\"\n",
      "__________________________________________________________________________________________________\n",
      " Layer (type)                   Output Shape         Param #     Connected to                     \n",
      "==================================================================================================\n",
      " input_1 (InputLayer)           [(None, 784)]        0           []                               \n",
      "                                                                                                  \n",
      " reshape (Reshape)              (None, 28, 28, 1)    0           ['input_1[0][0]']                \n",
      "                                                                                                  \n",
      " conv2d (Conv2D)                (None, 28, 28, 32)   320         ['reshape[0][0]']                \n",
      "                                                                                                  \n",
      " conv2d_1 (Conv2D)              (None, 28, 28, 32)   9248        ['conv2d[0][0]']                 \n",
      "                                                                                                  \n",
      " max_pooling2d (MaxPooling2D)   (None, 14, 14, 32)   0           ['conv2d_1[0][0]']               \n",
      "                                                                                                  \n",
      " dropout (Dropout)              (None, 14, 14, 32)   0           ['max_pooling2d[0][0]']          \n",
      "                                                                                                  \n",
      " flatten (Flatten)              (None, 6272)         0           ['dropout[0][0]']                \n",
      "                                                                                                  \n",
      " dense (Dense)                  (None, 128)          802944      ['flatten[0][0]']                \n",
      "                                                                                                  \n",
      " z_mean (Dense)                 (None, 6)            774         ['dense[0][0]']                  \n",
      "                                                                                                  \n",
      " z_log_var (Dense)              (None, 6)            774         ['dense[0][0]']                  \n",
      "                                                                                                  \n",
      " z (Lambda)                     (None, 6)            0           ['z_mean[0][0]',                 \n",
      "                                                                  'z_log_var[0][0]']              \n",
      "                                                                                                  \n",
      "==================================================================================================\n",
      "Total params: 814,060\n",
      "Trainable params: 814,060\n",
      "Non-trainable params: 0\n",
      "__________________________________________________________________________________________________\n",
      "You must install pydot (`pip install pydot`) and install graphviz (see instructions at https://graphviz.gitlab.io/download/) for plot_model/model_to_dot to work.\n",
      "Model: \"decoder\"\n",
      "__________________________________________________________________________________________________\n",
      " Layer (type)                   Output Shape         Param #     Connected to                     \n",
      "==================================================================================================\n",
      " z_sampling (InputLayer)        [(None, 6)]          0           []                               \n",
      "                                                                                                  \n",
      " label (InputLayer)             [(None, 36)]         0           []                               \n",
      "                                                                                                  \n",
      " concatenate (Concatenate)      (None, 42)           0           ['z_sampling[0][0]',             \n",
      "                                                                  'label[0][0]']                  \n",
      "                                                                                                  \n",
      " dense_1 (Dense)                (None, 128)          5504        ['concatenate[0][0]']            \n",
      "                                                                                                  \n",
      " dense_2 (Dense)                (None, 6272)         809088      ['dense_1[0][0]']                \n",
      "                                                                                                  \n",
      " reshape_1 (Reshape)            (None, 14, 14, 32)   0           ['dense_2[0][0]']                \n",
      "                                                                                                  \n",
      " dropout_1 (Dropout)            (None, 14, 14, 32)   0           ['reshape_1[0][0]']              \n",
      "                                                                                                  \n",
      " up_sampling2d (UpSampling2D)   (None, 28, 28, 32)   0           ['dropout_1[0][0]']              \n",
      "                                                                                                  \n",
      " conv2d_2 (Conv2D)              (None, 28, 28, 32)   9248        ['up_sampling2d[0][0]']          \n",
      "                                                                                                  \n",
      " conv2d_3 (Conv2D)              (None, 28, 28, 1)    289         ['conv2d_2[0][0]']               \n",
      "                                                                                                  \n",
      " reshape_2 (Reshape)            (None, 784)          0           ['conv2d_3[0][0]']               \n",
      "                                                                                                  \n",
      "==================================================================================================\n",
      "Total params: 824,129\n",
      "Trainable params: 824,129\n",
      "Non-trainable params: 0\n",
      "__________________________________________________________________________________________________\n",
      "Model: \"vae_mlp\"\n",
      "__________________________________________________________________________________________________\n",
      " Layer (type)                   Output Shape         Param #     Connected to                     \n",
      "==================================================================================================\n",
      " input_1 (InputLayer)           [(None, 784)]        0           []                               \n",
      "                                                                                                  \n",
      " encoder (Functional)           [(None, 6),          814060      ['input_1[0][0]']                \n",
      "                                 (None, 6),                                                       \n",
      "                                 (None, 6)]                                                       \n",
      "                                                                                                  \n",
      " label (InputLayer)             [(None, 36)]         0           []                               \n",
      "                                                                                                  \n",
      " decoder (Functional)           (None, 784)          824129      ['encoder[0][2]',                \n",
      "                                                                  'label[0][0]']                  \n",
      "                                                                                                  \n",
      "==================================================================================================\n",
      "Total params: 1,638,189\n",
      "Trainable params: 1,638,189\n",
      "Non-trainable params: 0\n",
      "__________________________________________________________________________________________________\n"
     ]
    }
   ],
   "source": [
    " image_shape = (28, 28, 1)\n",
    "original_dim = image_shape[0] * image_shape[1]\n",
    "input_shape = (original_dim,)\n",
    "num_classes = 36\n",
    "batch_size = 128\n",
    "latent_dim = 6\n",
    "epochs = 20\n",
    "\n",
    "# encoder\n",
    "inputs = Input(shape=input_shape)\n",
    "x = Reshape(image_shape)(inputs)\n",
    "x = Conv2D(32, (3, 3), activation='relu', padding='same')(x)\n",
    "x = Conv2D(32, (3, 3), activation='relu', padding='same')(x)\n",
    "x = MaxPooling2D((2, 2))(x)\n",
    "x = Dropout(0.25)(x)\n",
    "x = Flatten()(x)\n",
    "x = Dense(128, activation='relu')(x)\n",
    "z_mean = Dense(latent_dim, name='z_mean')(x)\n",
    "z_log_var = Dense(latent_dim, name='z_log_var')(x)\n",
    "z = Lambda(sampling, output_shape=(latent_dim,), name='z')([z_mean, z_log_var])\n",
    "\n",
    "encoder = Model(inputs, [z_mean, z_log_var, z], name='encoder')\n",
    "encoder.summary()\n",
    "plot_model(encoder, to_file='vae_cnn_encoder.png', show_shapes=True)\n",
    "\n",
    "# decoder\n",
    "latent_inputs = Input(shape=(latent_dim,), name='z_sampling')\n",
    "label_inputs = Input(shape=(num_classes,), name='label')\n",
    "x = Concatenate()([latent_inputs, label_inputs])\n",
    "x = Dense(128, activation='relu')(x)\n",
    "x = Dense(14 * 14 * 32, activation='relu')(x)\n",
    "x = Reshape((14, 14, 32))(x)\n",
    "x = Dropout(0.25)(x)\n",
    "x = UpSampling2D((2, 2))(x)\n",
    "x = Conv2D(32, (3, 3), activation='relu', padding='same')(x)\n",
    "x = Conv2D(1, (3, 3), activation='sigmoid', padding='same')(x)\n",
    "outputs = Reshape(input_shape)(x)\n",
    "\n",
    "decoder = Model([latent_inputs, label_inputs], outputs, name='decoder')\n",
    "decoder.summary()\n",
    "# plot_model(decoder, to_file='vae_cnn_decoder.png', show_shapes=True)\n",
    "\n",
    "# variational autoencoder\n",
    "outputs = decoder([encoder(inputs)[2], label_inputs])\n",
    "vae = Model([inputs, label_inputs], outputs, name='vae_mlp')\n",
    "vae.summary()\n",
    "# plot_model(vae, to_file='vae_cnn.png', show_shapes=True)"
   ]
  },
  {
   "cell_type": "code",
   "execution_count": 7,
   "metadata": {
    "colab": {
     "autoexec": {
      "startup": false,
      "wait_interval": 0
     },
     "base_uri": "https://localhost:8080/",
     "height": 71
    },
    "colab_type": "code",
    "executionInfo": {
     "elapsed": 166,
     "status": "ok",
     "timestamp": 1533600965385,
     "user": {
      "displayName": "Eric Zhang",
      "photoUrl": "https://lh3.googleusercontent.com/a/default-user=s128",
      "userId": "112904065289332618475"
     },
     "user_tz": 300
    },
    "id": "S2AK-c_3PQJW",
    "outputId": "62e00d98-7c9b-4c48-938d-1e7def7650d2"
   },
   "outputs": [
    {
     "ename": "NameError",
     "evalue": "name 'Beta' is not defined",
     "output_type": "error",
     "traceback": [
      "\u001b[1;31m---------------------------------------------------------------------------\u001b[0m",
      "\u001b[1;31mNameError\u001b[0m                                 Traceback (most recent call last)",
      "\u001b[1;32mC:\\Users\\RONAKD~1\\AppData\\Local\\Temp/ipykernel_3508/4254526718.py\u001b[0m in \u001b[0;36m<module>\u001b[1;34m\u001b[0m\n\u001b[0;32m      4\u001b[0m \u001b[0mkl_loss\u001b[0m \u001b[1;33m=\u001b[0m \u001b[0mK\u001b[0m\u001b[1;33m.\u001b[0m\u001b[0msum\u001b[0m\u001b[1;33m(\u001b[0m\u001b[0mkl_loss\u001b[0m\u001b[1;33m,\u001b[0m \u001b[0maxis\u001b[0m\u001b[1;33m=\u001b[0m\u001b[1;33m-\u001b[0m\u001b[1;36m1\u001b[0m\u001b[1;33m)\u001b[0m\u001b[1;33m\u001b[0m\u001b[1;33m\u001b[0m\u001b[0m\n\u001b[0;32m      5\u001b[0m \u001b[0mkl_loss\u001b[0m \u001b[1;33m*=\u001b[0m \u001b[1;33m-\u001b[0m\u001b[1;36m0.5\u001b[0m\u001b[1;33m\u001b[0m\u001b[1;33m\u001b[0m\u001b[0m\n\u001b[1;32m----> 6\u001b[1;33m \u001b[0mkl_loss\u001b[0m \u001b[1;33m*=\u001b[0m \u001b[0mBeta\u001b[0m\u001b[1;33m\u001b[0m\u001b[1;33m\u001b[0m\u001b[0m\n\u001b[0m\u001b[0;32m      7\u001b[0m \u001b[0mvae_loss\u001b[0m \u001b[1;33m=\u001b[0m \u001b[0mK\u001b[0m\u001b[1;33m.\u001b[0m\u001b[0mmean\u001b[0m\u001b[1;33m(\u001b[0m\u001b[0mreconstruction_loss\u001b[0m \u001b[1;33m+\u001b[0m \u001b[0mkl_loss\u001b[0m\u001b[1;33m)\u001b[0m\u001b[1;33m\u001b[0m\u001b[1;33m\u001b[0m\u001b[0m\n\u001b[0;32m      8\u001b[0m \u001b[0mvae\u001b[0m\u001b[1;33m.\u001b[0m\u001b[0madd_loss\u001b[0m\u001b[1;33m(\u001b[0m\u001b[0mvae_loss\u001b[0m\u001b[1;33m)\u001b[0m\u001b[1;33m\u001b[0m\u001b[1;33m\u001b[0m\u001b[0m\n",
      "\u001b[1;31mNameError\u001b[0m: name 'Beta' is not defined"
     ]
    }
   ],
   "source": [
    "reconstruction_loss = mse(inputs, outputs)\n",
    "reconstruction_loss *= original_dim\n",
    "kl_loss = 1 + z_log_var - K.square(z_mean) - K.exp(z_log_var)\n",
    "kl_loss = K.sum(kl_loss, axis=-1)\n",
    "kl_loss *= -0.5\n",
    "kl_loss *= Beta\n",
    "vae_loss = K.mean(reconstruction_loss + kl_loss)\n",
    "vae.add_loss(vae_loss)\n",
    "vae.compile(optimizer='adam')"
   ]
  },
  {
   "cell_type": "code",
   "execution_count": null,
   "metadata": {
    "colab": {
     "autoexec": {
      "startup": false,
      "wait_interval": 0
     },
     "base_uri": "https://localhost:8080/",
     "height": 34
    },
    "colab_type": "code",
    "executionInfo": {
     "elapsed": 215,
     "status": "ok",
     "timestamp": 1533602507875,
     "user": {
      "displayName": "Eric Zhang",
      "photoUrl": "https://lh3.googleusercontent.com/a/default-user=s128",
      "userId": "112904065289332618475"
     },
     "user_tz": 300
    },
    "id": "zPHhCBsSPQJb",
    "outputId": "21c1c3b7-3394-4bc1-fe36-a6575a4293c7"
   },
   "outputs": [],
   "source": [
    "import os\n",
    "\n",
    "weights_file = 'vae_cnn_mnist.h5'\n",
    "\n",
    "if os.path.exists(weights_file):\n",
    "    vae.load_weights(weights_file)\n",
    "    print('Loaded weights!')\n",
    "else:\n",
    "    vae.fit([x_train, y_train],\n",
    "            epochs=epochs,\n",
    "            batch_size=batch_size,\n",
    "            validation_data=([x_test, y_test], None))\n",
    "    vae.save_weights('vae_cnn_mnist.h5')"
   ]
  },
  {
   "cell_type": "markdown",
   "metadata": {},
   "source": [
    "### Show Output"
   ]
  },
  {
   "cell_type": "code",
   "execution_count": 8,
   "metadata": {},
   "outputs": [],
   "source": [
    "model = vae.load_weights(\"CVAE_50.hdf5\")"
   ]
  },
  {
   "cell_type": "code",
   "execution_count": 9,
   "metadata": {
    "colab": {
     "autoexec": {
      "startup": false,
      "wait_interval": 0
     },
     "base_uri": "https://localhost:8080/",
     "height": 191
    },
    "colab_type": "code",
    "executionInfo": {
     "elapsed": 4507,
     "status": "ok",
     "timestamp": 1533602516983,
     "user": {
      "displayName": "Eric Zhang",
      "photoUrl": "https://lh3.googleusercontent.com/a/default-user=s128",
      "userId": "112904065289332618475"
     },
     "user_tz": 300
    },
    "id": "lyGgL1U5U3lw",
    "outputId": "5c2c815b-ad7b-4e62-963c-c7ddb89cbda7"
   },
   "outputs": [
    {
     "data": {
      "image/png": "[encoded data removed]",
      "text/plain": [
       "<Figure size 1080x216 with 20 Axes>"
      ]
     },
     "metadata": {},
     "output_type": "display_data"
    }
   ],
   "source": [
    "fig, axes = plt.subplots(2, 10, figsize=(15, 3))\n",
    "\n",
    "def show(im):\n",
    "    sns.heatmap(im.reshape((28, 28)), cmap='Greys', cbar=False, square=True, )\n",
    "\n",
    "sample = np.random.randint(len(x_test), size=10)\n",
    "reconst = vae.predict([x_test[sample], y_test[sample]])\n",
    "\n",
    "for i in range(10):\n",
    "    axes[0, i].get_xaxis().set_visible(False)\n",
    "    axes[0, i].get_yaxis().set_visible(False)\n",
    "    plt.sca(axes[0, i])\n",
    "    show(x_test[sample[i]])\n",
    "    axes[1, i].get_xaxis().set_visible(False)\n",
    "    axes[1, i].get_yaxis().set_visible(False)\n",
    "    plt.sca(axes[1, i])\n",
    "    show(reconst[i])\n",
    "\n",
    "plt.show()"
   ]
  },
  {
   "cell_type": "code",
   "execution_count": 10,
   "metadata": {},
   "outputs": [
    {
     "data": {
      "application/vnd.jupyter.widget-view+json": {
       "model_id": "5030046936cd4c8cbf93655cddc83d68",
       "version_major": 2,
       "version_minor": 0
      },
      "text/plain": [
       "interactive(children=(IntSlider(value=17, description='num', max=35), FloatSlider(value=0.0, description='x1',…"
      ]
     },
     "metadata": {},
     "output_type": "display_data"
    }
   ],
   "source": [
    "from ipywidgets import interact, interact_manual\n",
    "\n",
    "def from_latent(num, vec):\n",
    "    vec = np.array(vec)\n",
    "    im = decoder.predict([vec.reshape(1, latent_dim), to_categorical([num], num_classes)]).reshape(28, 28)\n",
    "    return im\n",
    "\n",
    "@interact(num=(0, num_classes - 1),\n",
    "          x1=(-3., 3.), x2=(-3., 3.), x3=(-3., 3.),\n",
    "          x4=(-3., 3.), x5=(-3., 3.), x6=(-3., 3.))\n",
    "def f(num, x1, x2, x3, x4, x5, x6):\n",
    "    plt.figure(2)\n",
    "    plt.axis('off')\n",
    "    im = from_latent(num, [x1, x2, x3, x4, x5, x6])\n",
    "    sns.heatmap(im, square=True, cmap='Greys', cbar=False)\n",
    "    plt.show()"
   ]
  },
  {
   "cell_type": "code",
   "execution_count": 14,
   "metadata": {},
   "outputs": [
    {
     "data": {
      "text/plain": [
       "<matplotlib.image.AxesImage at 0x273cf2ad580>"
      ]
     },
     "execution_count": 14,
     "metadata": {},
     "output_type": "execute_result"
    },
    {
     "data": {
      "image/png": "[encoded data removed]",
      "text/plain": [
       "<Figure size 432x288 with 1 Axes>"
      ]
     },
     "metadata": {},
     "output_type": "display_data"
    }
   ],
   "source": [
    "def digit_image(digit, latent=None):\n",
    "    if latent is None:\n",
    "        latent = np.random.randn(latent_dim)\n",
    "    return from_latent(digit, latent)\n",
    "\n",
    "def number_image(num):\n",
    "    latent = 0.8 * np.random.randn(latent_dim)\n",
    "    width = 16\n",
    "    digits = str(num)\n",
    "    result = np.zeros((28, width * len(digits) + (28 - width)))\n",
    "    for i, d in enumerate(digits):\n",
    "        result[:, width*i:width*i + 28] += digit_image(int(d), latent + 0.5 * np.random.randn(latent_dim))\n",
    "    result = np.minimum(result, 1.0)\n",
    "    return result\n",
    "\n",
    "plt.gray()\n",
    "plt.axis('off')\n",
    "plt.imshow(number_image(64373265724))"
   ]
  },
  {
   "cell_type": "code",
   "execution_count": 15,
   "metadata": {},
   "outputs": [],
   "source": [
    "def sample_images(num, rows=10, cols=5):\n",
    "    images = []\n",
    "    for i in range(rows):\n",
    "        current = []\n",
    "        for j in range(cols):\n",
    "            current.append(number_image(num))\n",
    "        images.append(np.concatenate(current, axis=1))\n",
    "    return np.concatenate(images)"
   ]
  },
  {
   "cell_type": "code",
   "execution_count": null,
   "metadata": {},
   "outputs": [],
   "source": [
    "plt.gray()\n",
    "plt.axis('off')\n",
    "plt.imshow(1 - sample_images(65537))\n",
    "plt.savefig('sample.png')"
   ]
  },
  {
   "cell_type": "code",
   "execution_count": 16,
   "metadata": {},
   "outputs": [],
   "source": [
    "def sentence_to_print(text):\n",
    "    arr = []\n",
    "    for i in range(len(text)):\n",
    "        letter = text[i]\n",
    "        if letter.isdigit():\n",
    "            arr.append(int(letter))\n",
    "        else:\n",
    "            arr.append(ord(letter) - 55)\n",
    "    return arr"
   ]
  },
  {
   "cell_type": "code",
   "execution_count": 17,
   "metadata": {},
   "outputs": [
    {
     "data": {
      "application/vnd.jupyter.widget-view+json": {
       "model_id": "cfff0cc856d64ee9a7e56bb45e00c587",
       "version_major": 2,
       "version_minor": 0
      },
      "text/plain": [
       "interactive(children=(FloatSlider(value=0.0, description='x1', max=3.0, min=-3.0), FloatSlider(value=0.0, desc…"
      ]
     },
     "metadata": {},
     "output_type": "display_data"
    }
   ],
   "source": [
    "from ipywidgets import interact, interact_manual\n",
    "\n",
    "def from_latent(num, vec):\n",
    "    vec = np.array(vec)\n",
    "    im = decoder.predict([vec.reshape(1, latent_dim), to_categorical([num], num_classes)]).reshape(28, 28)\n",
    "    return im\n",
    "\n",
    "@interact(x1=(-3., 3.), x2=(-3., 3.), x3=(-3., 3.),\n",
    "          x4=(-3., 3.), x5=(-3., 3.), x6=(-3., 3.), x= 'HI THERE')\n",
    "\n",
    "def f(x1, x2, x3, x4, x5, x6,x):\n",
    "    plt.figure(2)\n",
    "    plt.axis('off')\n",
    "    x = x.upper()\n",
    "    arr = sentence_to_print(x)\n",
    "    ImgArray = []\n",
    "    for i in arr:\n",
    "        if i >= 0:\n",
    "            ImgArray.append(from_latent(i, [x1, x2, x3, x4, x5, x6]))\n",
    "        else:\n",
    "            ImgArray.append(np.zeros((28,28)))\n",
    "    \n",
    "    if len(ImgArray):\n",
    "        sns.heatmap(np.hstack(ImgArray), square=True, cmap='Greys', cbar=False)\n",
    "    plt.show()"
   ]
  },
  {
   "cell_type": "code",
   "execution_count": 43,
   "metadata": {},
   "outputs": [],
   "source": []
  },
  {
   "cell_type": "code",
   "execution_count": 31,
   "metadata": {},
   "outputs": [],
   "source": [
    "model = vae.load_weights(\"CVAE_0.0001.hdf5\")"
   ]
  },
  {
   "cell_type": "code",
   "execution_count": 32,
   "metadata": {},
   "outputs": [
    {
     "data": {
      "image/png": "[encoded data removed]",
      "text/plain": [
       "<Figure size 1080x216 with 20 Axes>"
      ]
     },
     "metadata": {},
     "output_type": "display_data"
    }
   ],
   "source": [
    "fig, axes = plt.subplots(2, 10, figsize=(15, 3))\n",
    "\n",
    "def show(im):\n",
    "    sns.heatmap(im.reshape((28, 28)), cmap='Greys', cbar=False, square=True, )\n",
    "\n",
    "sample = np.random.randint(len(x_test), size=10)\n",
    "reconst = vae.predict([x_test[sample], y_test[sample]])\n",
    "\n",
    "for i in range(10):\n",
    "    axes[0, i].get_xaxis().set_visible(False)\n",
    "    axes[0, i].get_yaxis().set_visible(False)\n",
    "    plt.sca(axes[0, i])\n",
    "    show(x_test[sample[i]])\n",
    "    axes[1, i].get_xaxis().set_visible(False)\n",
    "    axes[1, i].get_yaxis().set_visible(False)\n",
    "    plt.sca(axes[1, i])\n",
    "    show(reconst[i])\n",
    "\n",
    "plt.show()"
   ]
  },
  {
   "cell_type": "code",
   "execution_count": 33,
   "metadata": {},
   "outputs": [
    {
     "data": {
      "application/vnd.jupyter.widget-view+json": {
       "model_id": "e2da5f74ba2c49cda9156436e8cf5e6e",
       "version_major": 2,
       "version_minor": 0
      },
      "text/plain": [
       "interactive(children=(IntSlider(value=17, description='num', max=35), FloatSlider(value=0.0, description='x1',…"
      ]
     },
     "metadata": {},
     "output_type": "display_data"
    }
   ],
   "source": [
    "from ipywidgets import interact, interact_manual\n",
    "\n",
    "def from_latent(num, vec):\n",
    "    vec = np.array(vec)\n",
    "    im = decoder.predict([vec.reshape(1, latent_dim), to_categorical([num], num_classes)]).reshape(28, 28)\n",
    "    return im\n",
    "\n",
    "@interact(num=(0, num_classes - 1),\n",
    "          x1=(-3., 3.), x2=(-3., 3.), x3=(-3., 3.),\n",
    "          x4=(-3., 3.), x5=(-3., 3.), x6=(-3., 3.))\n",
    "def f(num, x1, x2, x3, x4, x5, x6):\n",
    "    plt.figure(2)\n",
    "    plt.axis('off')\n",
    "    im = from_latent(num, [x1, x2, x3, x4, x5, x6])\n",
    "    sns.heatmap(im, square=True, cmap='Greys', cbar=False)\n",
    "    plt.show()"
   ]
  },
  {
   "cell_type": "code",
   "execution_count": null,
   "metadata": {},
   "outputs": [],
   "source": []
  },
  {
   "cell_type": "code",
   "execution_count": null,
   "metadata": {},
   "outputs": [],
   "source": []
  }
 ],
 "metadata": {
  "accelerator": "GPU",
  "colab": {
   "default_view": {},
   "name": "MNIST Convolutional VAE with Label Input.ipynb",
   "provenance": [],
   "version": "0.3.2",
   "views": {}
  },
  "kernelspec": {
   "display_name": "Python 3 (ipykernel)",
   "language": "python",
   "name": "python3"
  },
  "language_info": {
   "codemirror_mode": {
    "name": "ipython",
    "version": 3
   },
   "file_extension": ".py",
   "mimetype": "text/x-python",
   "name": "python",
   "nbconvert_exporter": "python",
   "pygments_lexer": "ipython3",
   "version": "3.9.7"
  },
  "widgets": {
   "application/vnd.jupyter.widget-state+json": {
    "state": {
     "0d0e23ad624c4d34aa1264e85383bab5": {
      "model_module": "jupyter-js-widgets",
      "model_module_version": "~2.1.4",
      "model_name": "SliderStyleModel",
      "state": {
       "_model_module_version": "~2.1.4",
       "_view_module_version": "~2.1.4"
      }
     },
     "1722f9122a014e2ea6e86a1f56e58d5b": {
      "model_module": "jupyter-js-widgets",
      "model_module_version": "~2.1.4",
      "model_name": "LayoutModel",
      "state": {
       "_model_module_version": "~2.1.4",
       "_view_module_version": "~2.1.4"
      }
     },
     "208175817c0c44e485038e9fc8285440": {
      "model_module": "jupyter-js-widgets",
      "model_module_version": "~2.1.4",
      "model_name": "IntSliderModel",
      "state": {
       "_model_module_version": "~2.1.4",
       "_view_module_version": "~2.1.4",
       "description": "num",
       "layout": "IPY_MODEL_84accd3b947544709eab42d389c5aafe",
       "max": 35,
       "style": "IPY_MODEL_0d0e23ad624c4d34aa1264e85383bab5",
       "value": 17
      }
     },
     "2f738c565b2e413aa9ab705f308440c7": {
      "model_module": "jupyter-js-widgets",
      "model_module_version": "~2.1.4",
      "model_name": "LayoutModel",
      "state": {
       "_model_module_version": "~2.1.4",
       "_view_module_version": "~2.1.4"
      }
     },
     "35ed53c3525e41699204f6c0d95877da": {
      "model_module": "jupyter-js-widgets",
      "model_module_version": "~2.1.4",
      "model_name": "LayoutModel",
      "state": {
       "_model_module_version": "~2.1.4",
       "_view_module_version": "~2.1.4"
      }
     },
     "43c7badf0c0b4b3f812e5cc91ff8f62b": {
      "model_module": "jupyter-js-widgets",
      "model_module_version": "~2.1.4",
      "model_name": "LayoutModel",
      "state": {
       "_model_module_version": "~2.1.4",
       "_view_module_version": "~2.1.4"
      }
     },
     "533b43094e6f49c292f80f9fe9598339": {
      "model_module": "jupyter-js-widgets",
      "model_module_version": "~2.1.4",
      "model_name": "FloatSliderModel",
      "state": {
       "_model_module_version": "~2.1.4",
       "_view_module_version": "~2.1.4",
       "description": "x2",
       "layout": "IPY_MODEL_2f738c565b2e413aa9ab705f308440c7",
       "max": 3,
       "min": -3,
       "step": 0.1
      }
     },
     "68daa6a8965a4e2bb88c0f74a750315f": {
      "model_module": "jupyter-js-widgets",
      "model_module_version": "~2.1.4",
      "model_name": "LayoutModel",
      "state": {
       "_model_module_version": "~2.1.4",
       "_view_module_version": "~2.1.4"
      }
     },
     "84accd3b947544709eab42d389c5aafe": {
      "model_module": "jupyter-js-widgets",
      "model_module_version": "~2.1.4",
      "model_name": "LayoutModel",
      "state": {
       "_model_module_version": "~2.1.4",
       "_view_module_version": "~2.1.4"
      }
     },
     "9bae27e2a99a4bc4b383306bda1a857c": {
      "model_module": "jupyter-js-widgets",
      "model_module_version": "~2.1.4",
      "model_name": "FloatSliderModel",
      "state": {
       "_model_module_version": "~2.1.4",
       "_view_module_version": "~2.1.4",
       "description": "x3",
       "layout": "IPY_MODEL_35ed53c3525e41699204f6c0d95877da",
       "max": 3,
       "min": -3,
       "step": 0.1
      }
     },
     "a4fe31025c6844938c1e453b70ad1ea2": {
      "model_module": "jupyter-js-widgets",
      "model_module_version": "~2.1.4",
      "model_name": "LayoutModel",
      "state": {
       "_model_module_version": "~2.1.4",
       "_view_module_version": "~2.1.4"
      }
     },
     "c0c4a69e97da49b0a3bf5cd5ab578dab": {
      "model_module": "jupyter-js-widgets",
      "model_module_version": "~2.1.4",
      "model_name": "VBoxModel",
      "state": {
       "_dom_classes": [
        "widget-interact"
       ],
       "_model_module_version": "~2.1.4",
       "_view_module_version": "~2.1.4",
       "children": [
        "IPY_MODEL_208175817c0c44e485038e9fc8285440",
        "IPY_MODEL_ff1e16b7f8424c3a9c7da8f318bb9894",
        "IPY_MODEL_533b43094e6f49c292f80f9fe9598339",
        "IPY_MODEL_9bae27e2a99a4bc4b383306bda1a857c",
        "IPY_MODEL_cd6782f36e3a4eedaa684d8354633cca",
        "IPY_MODEL_d2377b7c812141baa4837eda8b24cff0"
       ],
       "layout": "IPY_MODEL_68daa6a8965a4e2bb88c0f74a750315f"
      }
     },
     "cd6782f36e3a4eedaa684d8354633cca": {
      "model_module": "jupyter-js-widgets",
      "model_module_version": "~2.1.4",
      "model_name": "FloatSliderModel",
      "state": {
       "_model_module_version": "~2.1.4",
       "_view_module_version": "~2.1.4",
       "description": "x4",
       "layout": "IPY_MODEL_43c7badf0c0b4b3f812e5cc91ff8f62b",
       "max": 3,
       "min": -3,
       "step": 0.1
      }
     },
     "d2377b7c812141baa4837eda8b24cff0": {
      "model_module": "jupyter-js-widgets",
      "model_module_version": "~2.1.4",
      "model_name": "OutputModel",
      "state": {
       "_dom_classes": [],
       "_model_module": "jupyter-js-widgets",
       "_model_module_version": "~2.1.4",
       "_view_module": "jupyter-js-widgets",
       "_view_module_version": "~2.1.4",
       "layout": "IPY_MODEL_a4fe31025c6844938c1e453b70ad1ea2",
       "msg_throttle": 1
      }
     },
     "ff1e16b7f8424c3a9c7da8f318bb9894": {
      "model_module": "jupyter-js-widgets",
      "model_module_version": "~2.1.4",
      "model_name": "FloatSliderModel",
      "state": {
       "_model_module_version": "~2.1.4",
       "_view_module_version": "~2.1.4",
       "description": "x1",
       "layout": "IPY_MODEL_1722f9122a014e2ea6e86a1f56e58d5b",
       "max": 3,
       "min": -3,
       "step": 0.1
      }
     }
    },
    "version_major": 1,
    "version_minor": 0
   }
  }
 },
 "nbformat": 4,
 "nbformat_minor": 4
}
