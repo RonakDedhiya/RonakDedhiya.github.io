{
 "cells": [
  {
   "cell_type": "code",
   "execution_count": 1,
   "id": "d5558478-f480-479c-ba2a-ca14030bcb7f",
   "metadata": {},
   "outputs": [],
   "source": [
    "import numpy as np"
   ]
  },
  {
   "cell_type": "code",
   "execution_count": 2,
   "id": "0e7afe7b-ec67-4cbf-b09e-1dd15aa08997",
   "metadata": {},
   "outputs": [],
   "source": [
    "def steepestDescent(Q,p,e,x):\n",
    "    Q = np.array(Q,dtype='int64')\n",
    "    x = np.array(x,dtype='float')\n",
    "    p = np.array(p,dtype='int64')\n",
    "    i = 0\n",
    "    while(1):\n",
    "        funcValue = (0.5* np.dot(np.dot(x,Q),x)) + np.dot(p,x)\n",
    "        print(\"Iterations %d: x = %s, f(x) = %d\" % (i,str(x),funcValue))\n",
    "        d = - (np.dot(Q,x) + p)\n",
    "        num = np.dot(d,d)\n",
    "        deno = np.dot(np.dot(d,Q),d)\n",
    "        alpha = num/deno\n",
    "        x_new = x  + (alpha*d)\n",
    "        i = i + 1\n",
    "        if np.linalg.norm(x - x_new) < e:\n",
    "            break\n",
    "        else:\n",
    "            x = x_new\n",
    "            \n",
    "    return x\n"
   ]
  },
  {
   "cell_type": "code",
   "execution_count": 3,
   "id": "4915eb9a-417f-48f8-ae1c-90442b85d192",
   "metadata": {},
   "outputs": [],
   "source": [
    "def newton(Q,p,e,x):\n",
    "    Q = np.array(Q,dtype='int64')\n",
    "    x = np.array(x,dtype='float')\n",
    "    p = np.array(p,dtype='int64')\n",
    "    i = 0\n",
    "    while(1):\n",
    "        funcValue = (0.5* np.dot(np.dot(x,Q),x)) + np.dot(p,x)\n",
    "        print(\"Iterations %d: x = %s, f(x) = %d\" % (i,str(x),funcValue))\n",
    "        d = - np.dot(np.linalg.inv(Q),(np.dot(Q,x) + p))\n",
    "        x_new = x  + d\n",
    "        i = i + 1\n",
    "        if np.linalg.norm(x - x_new) < e:\n",
    "            break\n",
    "        else:\n",
    "            x = x_new\n",
    "    return x\n"
   ]
  },
  {
   "cell_type": "code",
   "execution_count": null,
   "id": "745afb6a-1633-4b83-aad7-6d7ed1162029",
   "metadata": {},
   "outputs": [],
   "source": []
  }
 ],
 "metadata": {
  "kernelspec": {
   "display_name": "Python 3 (ipykernel)",
   "language": "python",
   "name": "python3"
  },
  "language_info": {
   "codemirror_mode": {
    "name": "ipython",
    "version": 3
   },
   "file_extension": ".py",
   "mimetype": "text/x-python",
   "name": "python",
   "nbconvert_exporter": "python",
   "pygments_lexer": "ipython3",
   "version": "3.9.7"
  }
 },
 "nbformat": 4,
 "nbformat_minor": 5
}
