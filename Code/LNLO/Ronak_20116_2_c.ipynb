{
 "cells": [
  {
   "cell_type": "markdown",
   "id": "add4de1d-d403-45d9-942b-8b5a97abeeaf",
   "metadata": {},
   "source": [
    "#### Part C"
   ]
  },
  {
   "cell_type": "code",
   "execution_count": 1,
   "id": "8a4639a9-b7e4-4cbc-9c64-2670d6c749e6",
   "metadata": {},
   "outputs": [],
   "source": [
    "from sympy import *\n",
    "x= symbols('x')\n",
    "u = symbols('u',nonnegative=True) # u > 0"
   ]
  },
  {
   "cell_type": "code",
   "execution_count": 2,
   "id": "c1afb1aa-b0e7-4cf3-b177-1243e50985d4",
   "metadata": {},
   "outputs": [],
   "source": [
    "u = symbols('u',nonnegative=True) # u>0"
   ]
  },
  {
   "cell_type": "code",
   "execution_count": 3,
   "id": "91f9db7d-2b95-485c-9c8c-19b21353c20c",
   "metadata": {},
   "outputs": [],
   "source": [
    "r = solve(\n",
    "    (\n",
    "    Eq((u**2) + (2*u) - 8 ,0),           # g'(u) = 0\n",
    "    ),\n",
    "    u,\n",
    "    simplify=False)"
   ]
  },
  {
   "cell_type": "code",
   "execution_count": 4,
   "id": "2728a4f4-5503-4eaf-9148-7de71d9a63a5",
   "metadata": {},
   "outputs": [
    {
     "name": "stdout",
     "output_type": "stream",
     "text": [
      "Dual Solution to problem is u = [(2,)]\n",
      "Strong Duality Holds\n"
     ]
    }
   ],
   "source": [
    "print(\"Dual Solution to problem is u =\", r)\n",
    "print(\"Strong Duality Holds\")"
   ]
  },
  {
   "cell_type": "code",
   "execution_count": null,
   "id": "f84f4be0-28e8-475e-8144-49b3be7edd05",
   "metadata": {},
   "outputs": [],
   "source": []
  }
 ],
 "metadata": {
  "kernelspec": {
   "display_name": "Python 3 (ipykernel)",
   "language": "python",
   "name": "python3"
  },
  "language_info": {
   "codemirror_mode": {
    "name": "ipython",
    "version": 3
   },
   "file_extension": ".py",
   "mimetype": "text/x-python",
   "name": "python",
   "nbconvert_exporter": "python",
   "pygments_lexer": "ipython3",
   "version": "3.9.7"
  }
 },
 "nbformat": 4,
 "nbformat_minor": 5
}
