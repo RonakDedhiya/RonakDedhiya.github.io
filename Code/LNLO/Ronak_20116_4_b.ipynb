{
 "cells": [
  {
   "cell_type": "code",
   "execution_count": 1,
   "id": "07d1f607-b62a-42a3-a36d-61e37d9dc962",
   "metadata": {},
   "outputs": [],
   "source": [
    "import numpy as np"
   ]
  },
  {
   "cell_type": "code",
   "execution_count": 2,
   "id": "26b36fd8-1c19-4c7c-aabb-ecbdbc720ee0",
   "metadata": {},
   "outputs": [],
   "source": [
    "def gradient1(x1,x2,e):\n",
    "    if (5-x1-x2) > 0:\n",
    "        f1 = 2*(x1 - 4) - (2*e*(5 - x1 - x2))\n",
    "        f2 = 2*(x2 - 4) -  (2*e*(5 - x1 - x2))\n",
    "    else:\n",
    "        f1 = 2*(x1 - 4) \n",
    "        f2 = 2*(x2 - 4)\n",
    "    return np.array([f1,f2])\n",
    "\n",
    "def hessian1(x1,x2,e):\n",
    "    term = 2*e\n",
    "    H = np.array([[2 + term, term],[term,2+term]])\n",
    "    return H"
   ]
  },
  {
   "cell_type": "code",
   "execution_count": 3,
   "id": "3d3c27e1-93b8-4dde-89a5-17874b671910",
   "metadata": {},
   "outputs": [],
   "source": [
    "def penalty(x,k,tol=1e-5,max_iter=100):\n",
    "    x = np.array(x,dtype='float')\n",
    "    \n",
    "    for j in range(10):\n",
    "        e = k+1\n",
    "        ## Centering through Newton's method\n",
    "        i = 0\n",
    "        while(1):\n",
    "            # print(\"Iterations %d: x = %s\" % (i,str(x)))\n",
    "            d = - np.dot(np.linalg.inv(hessian1(x[0],x[1],e)),gradient1(x[0],x[1],e))\n",
    "            x_new = x  + d\n",
    "            i = i + 1\n",
    "            if (np.linalg.norm(x - x_new) < tol) | (i> max_iter) :\n",
    "                break\n",
    "            else:\n",
    "                x = x_new\n",
    "        \n",
    "        ## update parameter e\n",
    "        k = (1+ 1/(13 *np.sqrt(0.01))) * k\n",
    "        func = (x[0] - 4)**2 + (x[1] - 4)**2\n",
    "        \n",
    "        print(\"Iterations %d: x = %s, c = %f, f(x) = %f\" % (j,str(x),e,func))   "
   ]
  },
  {
   "cell_type": "code",
   "execution_count": 4,
   "id": "453b1155-1457-463b-a4d2-6a9a56bf1138",
   "metadata": {},
   "outputs": [
    {
     "name": "stdout",
     "output_type": "stream",
     "text": [
      "Iterations 0: x = [4.00003085 4.00003085], c = 2.000000, f(x) = 0.000000\n",
      "Iterations 1: x = [4.00003085 4.00003085], c = 2.769231, f(x) = 0.000000\n",
      "Iterations 2: x = [4.00003085 4.00003085], c = 4.130178, f(x) = 0.000000\n",
      "Iterations 3: x = [4.00003085 4.00003085], c = 6.538006, f(x) = 0.000000\n",
      "Iterations 4: x = [4.00003085 4.00003085], c = 10.798011, f(x) = 0.000000\n",
      "Iterations 5: x = [4.00003085 4.00003085], c = 18.334943, f(x) = 0.000000\n",
      "Iterations 6: x = [4.00003085 4.00003085], c = 31.669515, f(x) = 0.000000\n",
      "Iterations 7: x = [4.00003085 4.00003085], c = 55.261449, f(x) = 0.000000\n",
      "Iterations 8: x = [4.00003085 4.00003085], c = 97.001025, f(x) = 0.000000\n",
      "Iterations 9: x = [4.00003085 4.00003085], c = 170.847967, f(x) = 0.000000\n"
     ]
    }
   ],
   "source": [
    "penalty([100,100],1)"
   ]
  }
 ],
 "metadata": {
  "kernelspec": {
   "display_name": "Python 3 (ipykernel)",
   "language": "python",
   "name": "python3"
  },
  "language_info": {
   "codemirror_mode": {
    "name": "ipython",
    "version": 3
   },
   "file_extension": ".py",
   "mimetype": "text/x-python",
   "name": "python",
   "nbconvert_exporter": "python",
   "pygments_lexer": "ipython3",
   "version": "3.9.7"
  }
 },
 "nbformat": 4,
 "nbformat_minor": 5
}
