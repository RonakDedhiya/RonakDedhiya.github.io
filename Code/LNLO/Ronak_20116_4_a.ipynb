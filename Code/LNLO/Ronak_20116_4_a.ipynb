{
 "cells": [
  {
   "cell_type": "code",
   "execution_count": 1,
   "id": "07d1f607-b62a-42a3-a36d-61e37d9dc962",
   "metadata": {},
   "outputs": [],
   "source": [
    "import numpy as np"
   ]
  },
  {
   "cell_type": "code",
   "execution_count": 2,
   "id": "d5fee982-5e37-45e2-aad4-75d2e3c00922",
   "metadata": {},
   "outputs": [],
   "source": [
    "def gradient(x1,x2,e):\n",
    "    f1 = 2*(x1 - 4) - e*(1/(x1 + x2 -5))\n",
    "    f2 = 2*(x2 - 4) - e*(1/(x1 + x2 -5))\n",
    "    return np.array([f1,f2])\n",
    "\n",
    "def hessian(x1,x2,e):\n",
    "    term = e/(x1 + x2 - 5)**2\n",
    "    H = np.array([[2 + term, term],[term,2+term]])\n",
    "    return H"
   ]
  },
  {
   "cell_type": "code",
   "execution_count": 3,
   "id": "ee7f3440-4e35-4113-a00a-3806f412740b",
   "metadata": {},
   "outputs": [],
   "source": [
    "def barrier(x,k,tol=1e-5,max_iter=100):\n",
    "    x = np.array(x,dtype='float')\n",
    "    \n",
    "    for j in range(10):\n",
    "        e = 1/(k+1)\n",
    "        ## Centering through Newton's method\n",
    "        i = 0\n",
    "        while(1):\n",
    "            # print(\"Iterations %d: x = %s\" % (i,str(x)))\n",
    "            d = - np.dot(np.linalg.inv(hessian(x[0],x[1],e)),gradient(x[0],x[1],e))\n",
    "            x_new = x  + d\n",
    "            i = i + 1\n",
    "            if (np.linalg.norm(x - x_new) < tol) | (i> max_iter) :\n",
    "                break\n",
    "            else:\n",
    "                x = x_new\n",
    "        \n",
    "        ## update parameter e\n",
    "        k = (1+ 1/(13 *np.sqrt(0.01))) * k\n",
    "        func = (x[0] - 4)**2 + (x[1] - 4)**2\n",
    "        \n",
    "        print(\"Iterations %d: x = %s, e = %f, f(x) = %f\" % (j,str(x),e,func))   "
   ]
  },
  {
   "cell_type": "code",
   "execution_count": 4,
   "id": "ace58e8a-89f7-4b08-9fc1-30a5a9201ecc",
   "metadata": {},
   "outputs": [
    {
     "name": "stdout",
     "output_type": "stream",
     "text": [
      "Iterations 0: x = [4.07915611 4.07915611], e = 0.500000, f(x) = 0.012531\n",
      "Iterations 1: x = [4.05794664 4.05794664], e = 0.361111, f(x) = 0.006716\n",
      "Iterations 2: x = [4.03931707 4.03931707], e = 0.242120, f(x) = 0.003092\n",
      "Iterations 3: x = [4.02507076 4.02507076], e = 0.152952, f(x) = 0.001257\n",
      "Iterations 4: x = [4.01527868 4.01527868], e = 0.092610, f(x) = 0.000467\n",
      "Iterations 5: x = [4.00903553 4.00903553], e = 0.054541, f(x) = 0.000163\n",
      "Iterations 6: x = [4.00524432 4.00524432], e = 0.031576, f(x) = 0.000055\n",
      "Iterations 7: x = [4.00300992 4.00300992], e = 0.018096, f(x) = 0.000018\n",
      "Iterations 8: x = [4.00171623 4.00171623], e = 0.010309, f(x) = 0.000006\n",
      "Iterations 9: x = [4.00097489 4.00097489], e = 0.005853, f(x) = 0.000002\n"
     ]
    }
   ],
   "source": [
    "barrier([0,0],1)"
   ]
  },
  {
   "cell_type": "code",
   "execution_count": null,
   "id": "42fe13f7-7a84-42d3-80a2-b3a180ad315f",
   "metadata": {},
   "outputs": [],
   "source": []
  }
 ],
 "metadata": {
  "kernelspec": {
   "display_name": "Python 3 (ipykernel)",
   "language": "python",
   "name": "python3"
  },
  "language_info": {
   "codemirror_mode": {
    "name": "ipython",
    "version": 3
   },
   "file_extension": ".py",
   "mimetype": "text/x-python",
   "name": "python",
   "nbconvert_exporter": "python",
   "pygments_lexer": "ipython3",
   "version": "3.9.7"
  }
 },
 "nbformat": 4,
 "nbformat_minor": 5
}
