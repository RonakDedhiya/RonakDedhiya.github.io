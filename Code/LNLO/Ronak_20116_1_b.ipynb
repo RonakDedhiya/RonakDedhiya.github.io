{
 "cells": [
  {
   "cell_type": "code",
   "execution_count": 1,
   "id": "d5558478-f480-479c-ba2a-ca14030bcb7f",
   "metadata": {},
   "outputs": [],
   "source": [
    "import numpy as np"
   ]
  },
  {
   "cell_type": "code",
   "execution_count": 2,
   "id": "0e7afe7b-ec67-4cbf-b09e-1dd15aa08997",
   "metadata": {},
   "outputs": [],
   "source": [
    "def steepestDescent(Q,p,e,x):\n",
    "    Q = np.array(Q,dtype='int64')\n",
    "    x = np.array(x,dtype='float')\n",
    "    p = np.array(p,dtype='int64')\n",
    "    i = 0\n",
    "    while(1):\n",
    "        funcValue = (0.5* np.dot(np.dot(x,Q),x)) + np.dot(p,x)\n",
    "        print(\"Iterations %d: x = %s, f(x) = %d\" % (i,str(x),funcValue))\n",
    "        d = - (np.dot(Q,x) + p)\n",
    "        num = np.dot(d,d)\n",
    "        deno = np.dot(np.dot(d,Q),d)\n",
    "        alpha = num/deno\n",
    "        x_new = x  + (alpha*d)\n",
    "        i = i + 1\n",
    "        if np.linalg.norm(x - x_new) < e:\n",
    "            break\n",
    "        else:\n",
    "            x = x_new\n",
    "            \n",
    "    return x\n"
   ]
  },
  {
   "cell_type": "code",
   "execution_count": 3,
   "id": "26cf9966-9fcc-408c-8e84-1fad6b4e0903",
   "metadata": {},
   "outputs": [],
   "source": [
    "Q = [[100,0],[0,800]]\n",
    "x = [1000,1]\n",
    "p = [10,40]"
   ]
  },
  {
   "cell_type": "code",
   "execution_count": 4,
   "id": "ee5b3397-a609-47b3-9f90-6e0cb873bd4d",
   "metadata": {},
   "outputs": [
    {
     "name": "stdout",
     "output_type": "stream",
     "text": [
      "Iterations 0: x = [10. 40.], f(x) = 646700\n",
      "Iterations 1: x = [ 8.7364024  -0.08481885], f(x) = 3903\n",
      "Iterations 2: x = [-0.0390193   0.19180962], f(x) = 22\n",
      "Iterations 3: x = [-0.04664851 -0.05021023], f(x) = -1\n",
      "Iterations 4: x = [-0.09963182 -0.04854003], f(x) = -1\n",
      "Iterations 5: x = [-0.09967788 -0.05000127], f(x) = -1\n",
      "Iterations 6: x = [-0.09999778 -0.04999119], f(x) = -1\n",
      "Iterations 7: x = [-0.09999806 -0.05000001], f(x) = -1\n",
      "Iterations 8: x = [-0.09999999 -0.04999995], f(x) = -1\n",
      "Iterations 9: x = [-0.09999999 -0.05      ], f(x) = -1\n",
      "Iterations 10: x = [-0.1  -0.05], f(x) = -1\n",
      "Solution to f(x) is x =  [-0.1  -0.05]\n"
     ]
    }
   ],
   "source": [
    "x_final = steepestDescent(Q,p,1e-8,p)\n",
    "print(\"Solution to f(x) is x = \", str(x_final))"
   ]
  },
  {
   "cell_type": "code",
   "execution_count": 5,
   "id": "4915eb9a-417f-48f8-ae1c-90442b85d192",
   "metadata": {},
   "outputs": [],
   "source": [
    "def newton(Q,p,e,x):\n",
    "    Q = np.array(Q,dtype='int64')\n",
    "    x = np.array(x,dtype='float')\n",
    "    p = np.array(p,dtype='int64')\n",
    "    i = 0\n",
    "    while(1):\n",
    "        funcValue = (0.5* np.dot(np.dot(x,Q),x)) + np.dot(p,x)\n",
    "        print(\"Iterations %d: x = %s, f(x) = %d\" % (i,str(x),funcValue))\n",
    "        d = - np.dot(np.linalg.inv(Q),(np.dot(Q,x) + p))\n",
    "        x_new = x  + d\n",
    "        i = i + 1\n",
    "        if np.linalg.norm(x - x_new) < e:\n",
    "            break\n",
    "        else:\n",
    "            x = x_new\n",
    "    return x\n"
   ]
  },
  {
   "cell_type": "code",
   "execution_count": 6,
   "id": "dfa12565-a193-4b52-a97e-c59a4e6b3b5b",
   "metadata": {},
   "outputs": [
    {
     "name": "stdout",
     "output_type": "stream",
     "text": [
      "Iterations 0: x = [1000.    1.], f(x) = 50010440\n",
      "Iterations 1: x = [-0.1  -0.05], f(x) = -1\n",
      "Solution to f(x) is x =  [-0.1  -0.05]\n"
     ]
    }
   ],
   "source": [
    "x_new = newton(Q,p,1e-8,x)\n",
    "print(\"Solution to f(x) is x = \", str(x_final))"
   ]
  },
  {
   "cell_type": "code",
   "execution_count": null,
   "id": "7d806ace-34c1-4693-92ee-c08663f09b85",
   "metadata": {},
   "outputs": [],
   "source": []
  }
 ],
 "metadata": {
  "kernelspec": {
   "display_name": "Python 3 (ipykernel)",
   "language": "python",
   "name": "python3"
  },
  "language_info": {
   "codemirror_mode": {
    "name": "ipython",
    "version": 3
   },
   "file_extension": ".py",
   "mimetype": "text/x-python",
   "name": "python",
   "nbconvert_exporter": "python",
   "pygments_lexer": "ipython3",
   "version": "3.9.7"
  }
 },
 "nbformat": 4,
 "nbformat_minor": 5
}
