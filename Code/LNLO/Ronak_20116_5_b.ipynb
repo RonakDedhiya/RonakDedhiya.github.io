{
 "cells": [
  {
   "cell_type": "code",
   "execution_count": 1,
   "id": "dae766a6-9aac-4b83-bbbd-3ea2318ec18d",
   "metadata": {},
   "outputs": [],
   "source": [
    "import numpy as np"
   ]
  },
  {
   "cell_type": "code",
   "execution_count": 2,
   "id": "69d2fc89-b595-43bc-bdb4-ffa99cbf53ba",
   "metadata": {},
   "outputs": [],
   "source": [
    "def conjugateGradient(Q,p,e,x):\n",
    "    Q = np.array(Q,dtype='int64')\n",
    "    x = np.array(x,dtype='float')\n",
    "    p = np.array(p,dtype='int64')\n",
    "    g = (np.dot(Q,x) + p)\n",
    "    d = - g    \n",
    "    i = 0\n",
    "    while(1):\n",
    "        funcValue = (0.5* np.dot(np.dot(x,Q),x)) + np.dot(p,x)\n",
    "        print(\"Iterations %d: x = %s, f(x) = %s\" % (i,str(x),str(funcValue)))\n",
    "        \n",
    "        num = -1 * np.dot(d,g)\n",
    "        deno = np.dot(np.dot(d,Q),d)\n",
    "        alpha = num/deno\n",
    "        x_new = x  + (alpha*d)\n",
    "        i = i + 1\n",
    "        g_new = (np.dot(Q,x_new) + p)\n",
    "        beta = np.dot(g_new,g_new)/np.dot(g,g)\n",
    "        d_new = (-1*g_new) + (beta * d)\n",
    "        if np.linalg.norm(g) < e:\n",
    "            break\n",
    "        else:\n",
    "            d = d_new\n",
    "            g = g_new\n",
    "            x = x_new\n",
    "    return x\n"
   ]
  },
  {
   "cell_type": "code",
   "execution_count": 3,
   "id": "412739c7-6042-4c47-900e-f0d339132198",
   "metadata": {},
   "outputs": [
    {
     "name": "stdout",
     "output_type": "stream",
     "text": [
      "Iterations 0: x = [0. 0. 0. 0.], f(x) = 0.0\n",
      "Iterations 1: x = [-0.13636364  0.13636364 -0.27272727  0.40909091], f(x) = -1.0227272727272725\n",
      "Iterations 2: x = [-0.21428571  0.26190476 -0.28571429  0.4047619 ], f(x) = -1.1309523809523812\n",
      "Solution using conjugate Gradient x =  [-0.21428571  0.26190476 -0.28571429  0.4047619 ]\n"
     ]
    }
   ],
   "source": [
    "Q = [[10,0,-4,0],[0,10,0,-4],[-4,0,10,0],[0,-4,0,10]]\n",
    "p = [1,-1,2,-3]\n",
    "x = [0,0,0,0]\n",
    "print(\"Solution using conjugate Gradient x = \",conjugateGradient(Q,p,1e-6,x))"
   ]
  },
  {
   "cell_type": "code",
   "execution_count": null,
   "id": "ad565e5a-ebf3-4f8c-8120-2d74ce6bf05f",
   "metadata": {},
   "outputs": [],
   "source": []
  }
 ],
 "metadata": {
  "kernelspec": {
   "display_name": "Python 3 (ipykernel)",
   "language": "python",
   "name": "python3"
  },
  "language_info": {
   "codemirror_mode": {
    "name": "ipython",
    "version": 3
   },
   "file_extension": ".py",
   "mimetype": "text/x-python",
   "name": "python",
   "nbconvert_exporter": "python",
   "pygments_lexer": "ipython3",
   "version": "3.9.7"
  }
 },
 "nbformat": 4,
 "nbformat_minor": 5
}
