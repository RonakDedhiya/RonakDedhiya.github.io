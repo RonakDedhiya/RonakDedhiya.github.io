{
 "cells": [
  {
   "cell_type": "markdown",
   "id": "2894ae3d-8e74-4cf5-a2e7-ebbd0de3adbb",
   "metadata": {},
   "source": [
    "### Part a"
   ]
  },
  {
   "cell_type": "code",
   "execution_count": 1,
   "id": "8a4639a9-b7e4-4cbc-9c64-2670d6c749e6",
   "metadata": {},
   "outputs": [],
   "source": [
    "from sympy import *\n",
    "x= symbols('x')\n",
    "u = symbols('u',nonnegative=True) # u > 0"
   ]
  },
  {
   "cell_type": "code",
   "execution_count": 2,
   "id": "2fe28e75-cfc7-4728-bbad-61c65a31e661",
   "metadata": {},
   "outputs": [],
   "source": [
    "r = solve(\n",
    "    (\n",
    "    Eq(u*((x**2) - (6*x) + 8) ,0),       # u*g(x) = 0\n",
    "    Eq((x**2) - (6*x) + 8 ,0),           # h(x) = 0\n",
    "    Eq((2*x) + (2*x*u) - 6*u,0)          # L'(x,u) = 0\n",
    "    ),\n",
    "    [x,u],\n",
    "    simplify=False)"
   ]
  },
  {
   "cell_type": "code",
   "execution_count": 3,
   "id": "f9a301d3-3804-4f0b-8a3d-72523351b7a9",
   "metadata": {},
   "outputs": [
    {
     "name": "stdout",
     "output_type": "stream",
     "text": [
      "Solution to constraint optimization is [x,u] = [(2, 2)]\n"
     ]
    }
   ],
   "source": [
    "print(\"Solution to constraint optimization is [x,u] =\",r)"
   ]
  },
  {
   "cell_type": "code",
   "execution_count": null,
   "id": "2a3b1319-5e53-4fc7-b07a-a04aeb646087",
   "metadata": {},
   "outputs": [],
   "source": []
  }
 ],
 "metadata": {
  "kernelspec": {
   "display_name": "Python 3 (ipykernel)",
   "language": "python",
   "name": "python3"
  },
  "language_info": {
   "codemirror_mode": {
    "name": "ipython",
    "version": 3
   },
   "file_extension": ".py",
   "mimetype": "text/x-python",
   "name": "python",
   "nbconvert_exporter": "python",
   "pygments_lexer": "ipython3",
   "version": "3.9.7"
  }
 },
 "nbformat": 4,
 "nbformat_minor": 5
}
