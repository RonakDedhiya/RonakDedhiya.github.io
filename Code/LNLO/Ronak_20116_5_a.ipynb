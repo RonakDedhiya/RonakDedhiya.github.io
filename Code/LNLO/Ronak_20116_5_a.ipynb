{
 "cells": [
  {
   "cell_type": "code",
   "execution_count": 1,
   "id": "dae766a6-9aac-4b83-bbbd-3ea2318ec18d",
   "metadata": {},
   "outputs": [],
   "source": [
    "import numpy as np"
   ]
  },
  {
   "cell_type": "code",
   "execution_count": 2,
   "id": "69d2fc89-b595-43bc-bdb4-ffa99cbf53ba",
   "metadata": {},
   "outputs": [],
   "source": [
    "def conjugateGradient(Q,p,e,x):\n",
    "    Q = np.array(Q,dtype='int64')\n",
    "    x = np.array(x,dtype='float')\n",
    "    p = np.array(p,dtype='int64')\n",
    "    g = (np.dot(Q,x) + p)\n",
    "    d = - g    \n",
    "    i = 0\n",
    "    while(1):\n",
    "        funcValue = (0.5* np.dot(np.dot(x,Q),x)) + np.dot(p,x)\n",
    "        print(\"Iterations %d: x = %s, f(x) = %s\" % (i,str(x),str(funcValue)))\n",
    "        \n",
    "        num = -1 * np.dot(d,g)\n",
    "        deno = np.dot(np.dot(d,Q),d)\n",
    "        alpha = num/deno\n",
    "        x_new = x  + (alpha*d)\n",
    "        i = i + 1\n",
    "        g_new = (np.dot(Q,x_new) + p)\n",
    "        beta = np.dot(g_new,g_new)/np.dot(g,g)\n",
    "        d_new = (-1*g_new) + (beta * d)\n",
    "        if np.linalg.norm(g) < e:\n",
    "            break\n",
    "        else:\n",
    "            d = d_new\n",
    "            g = g_new\n",
    "            x = x_new\n",
    "    return x\n"
   ]
  },
  {
   "cell_type": "code",
   "execution_count": null,
   "id": "f584321a-4745-4229-9ac3-e9c48e1a577f",
   "metadata": {},
   "outputs": [],
   "source": []
  }
 ],
 "metadata": {
  "kernelspec": {
   "display_name": "Python 3 (ipykernel)",
   "language": "python",
   "name": "python3"
  },
  "language_info": {
   "codemirror_mode": {
    "name": "ipython",
    "version": 3
   },
   "file_extension": ".py",
   "mimetype": "text/x-python",
   "name": "python",
   "nbconvert_exporter": "python",
   "pygments_lexer": "ipython3",
   "version": "3.9.7"
  }
 },
 "nbformat": 4,
 "nbformat_minor": 5
}
