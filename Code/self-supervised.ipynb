{
 "cells": [
  {
   "cell_type": "code",
   "execution_count": 21,
   "metadata": {
    "execution": {
     "iopub.execute_input": "2022-11-23T14:21:06.900565Z",
     "iopub.status.busy": "2022-11-23T14:21:06.900057Z",
     "iopub.status.idle": "2022-11-23T14:21:06.910185Z",
     "shell.execute_reply": "2022-11-23T14:21:06.909088Z",
     "shell.execute_reply.started": "2022-11-23T14:21:06.900521Z"
    }
   },
   "outputs": [],
   "source": [
    "import tensorflow as tf\n",
    "import matplotlib.pyplot as plt\n",
    "import numpy as np\n",
    "from sklearn.model_selection import train_test_split\n",
    "from sklearn.metrics import accuracy_score"
   ]
  },
  {
   "cell_type": "markdown",
   "metadata": {},
   "source": [
    "#### Data Loader"
   ]
  },
  {
   "cell_type": "code",
   "execution_count": 22,
   "metadata": {
    "execution": {
     "iopub.execute_input": "2022-11-23T14:21:07.946331Z",
     "iopub.status.busy": "2022-11-23T14:21:07.945966Z",
     "iopub.status.idle": "2022-11-23T14:21:07.955563Z",
     "shell.execute_reply": "2022-11-23T14:21:07.954368Z",
     "shell.execute_reply.started": "2022-11-23T14:21:07.946279Z"
    }
   },
   "outputs": [],
   "source": [
    "## Data Generator\n",
    "class DataGenerator(tf.keras.utils.Sequence):\n",
    "    'Generates data for Keras'\n",
    "    def __init__(self, xData, yData, batch_size=16, shuffle=True):\n",
    "        'Initialization'\n",
    "        self.batch_size = batch_size\n",
    "        self.X = xData\n",
    "        self.Y = yData\n",
    "        self.shuffle = shuffle\n",
    "        self.on_epoch_end()\n",
    "\n",
    "    def __len__(self):\n",
    "        'Denotes the number of batches per epoch'\n",
    "        return int(np.floor(len(self.X) / self.batch_size))\n",
    "\n",
    "    def __getitem__(self, index):\n",
    "        'Generate one batch of data'\n",
    "        # Generate indexes of the batch\n",
    "        indexes = self.indexes[index*self.batch_size:(index+1)*self.batch_size]\n",
    "        return self.X[indexes]/255,self.Y[indexes]\n",
    "\n",
    "    def on_epoch_end(self):\n",
    "        'Updates indexes after each epoch'\n",
    "        self.indexes = np.arange(len(self.X))\n",
    "        if self.shuffle == True:\n",
    "            np.random.shuffle(self.indexes)"
   ]
  },
  {
   "cell_type": "markdown",
   "metadata": {},
   "source": [
    "#### Models"
   ]
  },
  {
   "cell_type": "code",
   "execution_count": 23,
   "metadata": {
    "execution": {
     "iopub.execute_input": "2022-11-23T14:21:09.160161Z",
     "iopub.status.busy": "2022-11-23T14:21:09.159802Z",
     "iopub.status.idle": "2022-11-23T14:21:09.176967Z",
     "shell.execute_reply": "2022-11-23T14:21:09.176032Z",
     "shell.execute_reply.started": "2022-11-23T14:21:09.160129Z"
    }
   },
   "outputs": [],
   "source": [
    "def ResnetBlock(in_channels, out_channels, down_sample = False):\n",
    "    inputs = tf.keras.Input((None, None, in_channels)); # inputs.shape = (batch, height, width, in_channels)\n",
    "    if down_sample:\n",
    "        shortcut = tf.keras.layers.Conv2D(out_channels, kernel_size = (1,1), strides = (2,2), padding = 'same', kernel_initializer = tf.keras.initializers.HeNormal())(inputs);\n",
    "        shortcut = tf.keras.layers.BatchNormalization()(shortcut);\n",
    "    else:\n",
    "        shortcut = inputs;\n",
    "    results = tf.keras.layers.Conv2D(out_channels, kernel_size = (3,3), strides = (2,2) if down_sample else (1,1), padding = 'same', kernel_initializer = tf.keras.initializers.HeNormal())(inputs);\n",
    "    results = tf.keras.layers.BatchNormalization()(results);\n",
    "    results = tf.keras.layers.ReLU()(results);\n",
    "    results = tf.keras.layers.Conv2D(out_channels, kernel_size = (3,3), strides = (1,1), padding = 'same', kernel_initializer = tf.keras.initializers.HeNormal())(results);\n",
    "    results = tf.keras.layers.BatchNormalization()(results);\n",
    "    results = tf.keras.layers.Add()([results, shortcut]);\n",
    "    results = tf.keras.layers.ReLU()(results);\n",
    "    return tf.keras.Model(inputs = inputs, outputs = results);\n",
    "\n",
    "def ResNet18(**kwargs):\n",
    "    inputs = tf.keras.Input((None, None, 3));\n",
    "    results = tf.keras.layers.Conv2D(64, kernel_size = (7,7), strides = (2,2), padding = 'same', kernel_initializer = tf.keras.initializers.HeNormal())(inputs);\n",
    "    results = tf.keras.layers.BatchNormalization()(results);\n",
    "    results = tf.keras.layers.ReLU()(results);\n",
    "    results = tf.keras.layers.MaxPool2D(pool_size = (3,3), strides = (2,2), padding = 'same')(results);\n",
    "    results = ResnetBlock(64, 64)(results);\n",
    "    results = ResnetBlock(64, 64)(results);\n",
    "    results = ResnetBlock(64, 128, down_sample = True)(results);\n",
    "    results = ResnetBlock(128, 128)(results);\n",
    "    results = ResnetBlock(128, 256, down_sample = True)(results);\n",
    "    results = ResnetBlock(256, 256)(results);\n",
    "    results = ResnetBlock(256, 512, down_sample = True)(results);\n",
    "    results = ResnetBlock(512, 512)(results);\n",
    "    results = tf.keras.layers.GlobalAveragePooling2D()(results); # results.shape = (batch, 512)\n",
    "    return tf.keras.Model(inputs = inputs, outputs = results, **kwargs);\n",
    "\n",
    "def Model(baseModel, nClasses):\n",
    "    inputs = tf.keras.Input((None, None, 3));\n",
    "    results = baseModel(inputs);\n",
    "    results = tf.keras.layers.Dense(128,activation = tf.keras.activations.relu)(results);\n",
    "#     results = tf.keras.layers.Dense(32,activation = tf.keras.activations.relu)(results);\n",
    "    results = tf.keras.layers.Dense(nClasses, activation = tf.keras.activations.softmax)(results);\n",
    "    return tf.keras.Model(inputs = inputs, outputs = results);"
   ]
  },
  {
   "cell_type": "markdown",
   "metadata": {},
   "source": [
    "#### Load the Dataset & Dataloader"
   ]
  },
  {
   "cell_type": "code",
   "execution_count": 24,
   "metadata": {
    "execution": {
     "iopub.execute_input": "2022-11-23T14:21:10.631501Z",
     "iopub.status.busy": "2022-11-23T14:21:10.631123Z",
     "iopub.status.idle": "2022-11-23T14:21:11.637009Z",
     "shell.execute_reply": "2022-11-23T14:21:11.636045Z",
     "shell.execute_reply.started": "2022-11-23T14:21:10.631469Z"
    }
   },
   "outputs": [],
   "source": [
    "(xTrain, yTrain), (xTest, yTest) = tf.keras.datasets.cifar10.load_data()\n",
    "xSetA, xSetB, ySetA, ySetB = train_test_split(xTrain, yTrain, stratify= yTrain, test_size=0.2)\n",
    "trainRotDataloader = DataGenerator(xSetA, ySetA, batch_size = 128, shuffle = True)\n",
    "trainClfDataloader = DataGenerator(xSetB, ySetB, batch_size = 512, shuffle = True)\n",
    "testClfDataloader  = DataGenerator(xTest, yTest, batch_size = 500, shuffle = False)"
   ]
  },
  {
   "cell_type": "markdown",
   "metadata": {
    "execution": {
     "iopub.execute_input": "2022-11-19T12:13:57.301105Z",
     "iopub.status.busy": "2022-11-19T12:13:57.300693Z",
     "iopub.status.idle": "2022-11-19T12:13:57.308789Z",
     "shell.execute_reply": "2022-11-19T12:13:57.307619Z",
     "shell.execute_reply.started": "2022-11-19T12:13:57.301070Z"
    }
   },
   "source": [
    "#### Load Rotational Models"
   ]
  },
  {
   "cell_type": "code",
   "execution_count": 25,
   "metadata": {
    "execution": {
     "iopub.execute_input": "2022-11-23T14:21:20.714947Z",
     "iopub.status.busy": "2022-11-23T14:21:20.714549Z",
     "iopub.status.idle": "2022-11-23T14:21:21.634565Z",
     "shell.execute_reply": "2022-11-23T14:21:21.633570Z",
     "shell.execute_reply.started": "2022-11-23T14:21:20.714913Z"
    }
   },
   "outputs": [],
   "source": [
    "baseResNetModel = ResNet18()\n",
    "RotationModel = Model(baseResNetModel, nClasses = 4)\n",
    "optimizer = tf.keras.optimizers.SGD()\n",
    "loss_fn = tf.keras.losses.CategoricalCrossentropy()\n",
    "Acc = tf.keras.metrics.CategoricalAccuracy()"
   ]
  },
  {
   "cell_type": "markdown",
   "metadata": {
    "execution": {
     "iopub.execute_input": "2022-11-19T14:30:24.345739Z",
     "iopub.status.busy": "2022-11-19T14:30:24.345357Z",
     "iopub.status.idle": "2022-11-19T14:30:24.350988Z",
     "shell.execute_reply": "2022-11-19T14:30:24.349576Z",
     "shell.execute_reply.started": "2022-11-19T14:30:24.345708Z"
    }
   },
   "source": [
    "#### Rotation of Images"
   ]
  },
  {
   "cell_type": "code",
   "execution_count": 26,
   "metadata": {
    "execution": {
     "iopub.execute_input": "2022-11-23T14:21:22.708375Z",
     "iopub.status.busy": "2022-11-23T14:21:22.707963Z",
     "iopub.status.idle": "2022-11-23T14:21:22.892100Z",
     "shell.execute_reply": "2022-11-23T14:21:22.890888Z",
     "shell.execute_reply.started": "2022-11-23T14:21:22.708336Z"
    }
   },
   "outputs": [
    {
     "data": {
      "image/png": "[encoded data removed]",
      "text/plain": [
       "<Figure size 1008x288 with 4 Axes>"
      ]
     },
     "metadata": {},
     "output_type": "display_data"
    }
   ],
   "source": [
    "## Get One batch\n",
    "for _,data in enumerate(trainRotDataloader):\n",
    "    break\n",
    "    \n",
    "index = 89\n",
    "plt.figure(figsize=(14,4))\n",
    "plt.subplot(141)\n",
    "plt.imshow(data[0][index])\n",
    "plt.title(\"0\"); plt.xticks([]); plt.yticks([]);\n",
    "plt.subplot(142)\n",
    "plt.imshow(np.flip(np.transpose(data[0],(0,2,1,3)),axis = 2)[index])\n",
    "plt.title(\"90\"); plt.xticks([]); plt.yticks([]);\n",
    "plt.subplot(143)\n",
    "plt.imshow(np.flip(data[0],axis= 1)[index])\n",
    "plt.title(\"180\");plt.xticks([]); plt.yticks([]);\n",
    "plt.subplot(144)\n",
    "plt.imshow(np.transpose(data[0],(0,2,1,3))[index])\n",
    "plt.title(\"270\");plt.xticks([]); plt.yticks([]);\n",
    "plt.show()"
   ]
  },
  {
   "cell_type": "code",
   "execution_count": 27,
   "metadata": {
    "execution": {
     "iopub.execute_input": "2022-11-23T14:21:28.636639Z",
     "iopub.status.busy": "2022-11-23T14:21:28.635735Z",
     "iopub.status.idle": "2022-11-23T14:47:20.301733Z",
     "shell.execute_reply": "2022-11-23T14:47:20.300781Z",
     "shell.execute_reply.started": "2022-11-23T14:21:28.636589Z"
    }
   },
   "outputs": [
    {
     "name": "stdout",
     "output_type": "stream",
     "text": [
      "\n",
      "epoch 1/50\n",
      "311/312 [============================>.] - ETA: 0s - Loss: 1.1410 - Accuracy: 0.4155\n",
      "epoch 2/50\n",
      "311/312 [============================>.] - ETA: 0s - Loss: 1.0290 - Accuracy: 0.5188\n",
      "epoch 3/50\n",
      "311/312 [============================>.] - ETA: 0s - Loss: 0.9810 - Accuracy: 0.5528\n",
      "epoch 4/50\n",
      "311/312 [============================>.] - ETA: 0s - Loss: 0.9470 - Accuracy: 0.5707\n",
      "epoch 5/50\n",
      "311/312 [============================>.] - ETA: 0s - Loss: 0.9190 - Accuracy: 0.5828\n",
      "epoch 6/50\n",
      "311/312 [============================>.] - ETA: 0s - Loss: 0.9270 - Accuracy: 0.5929\n",
      "epoch 7/50\n",
      "311/312 [============================>.] - ETA: 0s - Loss: 0.8780 - Accuracy: 0.6010\n",
      "epoch 8/50\n",
      "311/312 [============================>.] - ETA: 0s - Loss: 0.8600 - Accuracy: 0.6104\n",
      "epoch 9/50\n",
      "311/312 [============================>.] - ETA: 0s - Loss: 0.8580 - Accuracy: 0.6172\n",
      "epoch 10/50\n",
      "311/312 [============================>.] - ETA: 0s - Loss: 0.8360 - Accuracy: 0.6237\n",
      "epoch 11/50\n",
      "311/312 [============================>.] - ETA: 0s - Loss: 0.8210 - Accuracy: 0.6302\n",
      "epoch 12/50\n",
      "311/312 [============================>.] - ETA: 0s - Loss: 0.7990 - Accuracy: 0.6369\n",
      "epoch 13/50\n",
      "311/312 [============================>.] - ETA: 0s - Loss: 0.7920 - Accuracy: 0.6426\n",
      "epoch 14/50\n",
      "311/312 [============================>.] - ETA: 0s - Loss: 0.7770 - Accuracy: 0.6476\n",
      "epoch 15/50\n",
      "311/312 [============================>.] - ETA: 0s - Loss: 0.7520 - Accuracy: 0.6538\n",
      "epoch 16/50\n",
      "311/312 [============================>.] - ETA: 0s - Loss: 0.7650 - Accuracy: 0.6596\n",
      "epoch 17/50\n",
      "311/312 [============================>.] - ETA: 0s - Loss: 0.7380 - Accuracy: 0.6637\n",
      "epoch 18/50\n",
      "311/312 [============================>.] - ETA: 0s - Loss: 0.7390 - Accuracy: 0.6691\n",
      "epoch 19/50\n",
      "311/312 [============================>.] - ETA: 0s - Loss: 0.7320 - Accuracy: 0.6745\n",
      "epoch 20/50\n",
      "311/312 [============================>.] - ETA: 0s - Loss: 0.7170 - Accuracy: 0.6780\n",
      "epoch 21/50\n",
      "311/312 [============================>.] - ETA: 0s - Loss: 0.7050 - Accuracy: 0.6830\n",
      "epoch 22/50\n",
      "311/312 [============================>.] - ETA: 0s - Loss: 0.7300 - Accuracy: 0.6869\n",
      "epoch 23/50\n",
      "311/312 [============================>.] - ETA: 0s - Loss: 0.6900 - Accuracy: 0.6907\n",
      "epoch 24/50\n",
      "311/312 [============================>.] - ETA: 0s - Loss: 0.6750 - Accuracy: 0.6954\n",
      "epoch 25/50\n",
      "311/312 [============================>.] - ETA: 0s - Loss: 0.6640 - Accuracy: 0.6977\n",
      "epoch 26/50\n",
      "311/312 [============================>.] - ETA: 0s - Loss: 0.6550 - Accuracy: 0.7034\n",
      "epoch 27/50\n",
      "311/312 [============================>.] - ETA: 0s - Loss: 0.6720 - Accuracy: 0.7068\n",
      "epoch 28/50\n",
      "311/312 [============================>.] - ETA: 0s - Loss: 0.6310 - Accuracy: 0.7107\n",
      "epoch 29/50\n",
      "311/312 [============================>.] - ETA: 0s - Loss: 0.6330 - Accuracy: 0.7135\n",
      "epoch 30/50\n",
      "311/312 [============================>.] - ETA: 0s - Loss: 0.6570 - Accuracy: 0.7197\n",
      "epoch 31/50\n",
      "311/312 [============================>.] - ETA: 0s - Loss: 0.6150 - Accuracy: 0.7211\n",
      "epoch 32/50\n",
      "311/312 [============================>.] - ETA: 0s - Loss: 0.6010 - Accuracy: 0.7262\n",
      "epoch 33/50\n",
      "311/312 [============================>.] - ETA: 0s - Loss: 0.6040 - Accuracy: 0.7287\n",
      "epoch 34/50\n",
      "311/312 [============================>.] - ETA: 0s - Loss: 0.6010 - Accuracy: 0.7330\n",
      "epoch 35/50\n",
      "311/312 [============================>.] - ETA: 0s - Loss: 0.5700 - Accuracy: 0.7361\n",
      "epoch 36/50\n",
      "311/312 [============================>.] - ETA: 0s - Loss: 0.5720 - Accuracy: 0.7410\n",
      "epoch 37/50\n",
      "311/312 [============================>.] - ETA: 0s - Loss: 0.5770 - Accuracy: 0.7435\n",
      "epoch 38/50\n",
      "311/312 [============================>.] - ETA: 0s - Loss: 0.5870 - Accuracy: 0.7472\n",
      "epoch 39/50\n",
      "311/312 [============================>.] - ETA: 0s - Loss: 0.5380 - Accuracy: 0.7510\n",
      "epoch 40/50\n",
      "311/312 [============================>.] - ETA: 0s - Loss: 0.5610 - Accuracy: 0.7555\n",
      "epoch 41/50\n",
      "311/312 [============================>.] - ETA: 0s - Loss: 0.5460 - Accuracy: 0.7577\n",
      "epoch 42/50\n",
      "311/312 [============================>.] - ETA: 0s - Loss: 0.5310 - Accuracy: 0.7608\n",
      "epoch 43/50\n",
      "311/312 [============================>.] - ETA: 0s - Loss: 0.5350 - Accuracy: 0.7643\n",
      "epoch 44/50\n",
      "311/312 [============================>.] - ETA: 0s - Loss: 0.5340 - Accuracy: 0.7695\n",
      "epoch 45/50\n",
      "311/312 [============================>.] - ETA: 0s - Loss: 0.4940 - Accuracy: 0.7742\n",
      "epoch 46/50\n",
      "311/312 [============================>.] - ETA: 0s - Loss: 0.4990 - Accuracy: 0.7748\n",
      "epoch 47/50\n",
      "311/312 [============================>.] - ETA: 0s - Loss: 0.4560 - Accuracy: 0.7799\n",
      "epoch 48/50\n",
      "311/312 [============================>.] - ETA: 0s - Loss: 0.5560 - Accuracy: 0.7827\n",
      "epoch 49/50\n",
      "311/312 [============================>.] - ETA: 0s - Loss: 0.4590 - Accuracy: 0.7871\n",
      "epoch 50/50\n",
      "311/312 [============================>.] - ETA: 0s - Loss: 0.5310 - Accuracy: 0.7898"
     ]
    }
   ],
   "source": [
    "epochs = 50\n",
    "for epoch in range(epochs):\n",
    "    print(\"\\nepoch {}/{}\".format(epoch+1,epochs))\n",
    "    Acc.reset_states()\n",
    "    pb = tf.keras.utils.Progbar(len(trainRotDataloader),stateful_metrics=[\"Loss\",\"Accuracy\"])\n",
    "    for batch,data in enumerate(trainRotDataloader):\n",
    "        imgs, _ = data\n",
    "        size = imgs.shape[0]\n",
    "        \n",
    "        ## Generate Rotated Images and stack them\n",
    "        transformedImgs = np.vstack([imgs,np.flip(np.transpose(imgs,(0,2,1,3)),axis = 2),\n",
    "                              np.flip(imgs,axis= 1),np.transpose(imgs,(0,2,1,3))])\n",
    "        \n",
    "        ## Generate one-hot labels for rotation\n",
    "        labels = np.zeros((size*4,4))\n",
    "        for i in range(4):\n",
    "            labels[(i*size):((i+1)*size),i] = 1\n",
    "            \n",
    "        ##Forward pass the model\n",
    "        with tf.GradientTape() as tape:\n",
    "            pred = RotationModel(transformedImgs)\n",
    "            loss = loss_fn(labels,pred)\n",
    "            Acc.update_state(labels,pred)\n",
    "           \n",
    "        grads = tape.gradient(loss, RotationModel.trainable_weights)\n",
    "        optimizer.apply_gradients(zip(grads,RotationModel.trainable_weights))\n",
    "        pb.update(batch,values=[(\"Loss\",round(loss.numpy(),3)),(\"Accuracy\",Acc.result().numpy())])        "
   ]
  },
  {
   "cell_type": "code",
   "execution_count": null,
   "metadata": {
    "execution": {
     "iopub.execute_input": "2022-11-19T14:24:49.297326Z",
     "iopub.status.busy": "2022-11-19T14:24:49.296909Z",
     "iopub.status.idle": "2022-11-19T14:24:49.644775Z",
     "shell.execute_reply": "2022-11-19T14:24:49.643791Z",
     "shell.execute_reply.started": "2022-11-19T14:24:49.297294Z"
    }
   },
   "outputs": [],
   "source": [
    "baseResNetModel.save(\"baseResNetModel.h5\")\n",
    "RotationModel.save(\"RotationModel.h5\")"
   ]
  },
  {
   "cell_type": "markdown",
   "metadata": {},
   "source": [
    "#### Train Classifier Model"
   ]
  },
  {
   "cell_type": "code",
   "execution_count": 28,
   "metadata": {
    "execution": {
     "iopub.execute_input": "2022-11-23T14:47:20.304063Z",
     "iopub.status.busy": "2022-11-23T14:47:20.303713Z",
     "iopub.status.idle": "2022-11-23T14:47:20.472677Z",
     "shell.execute_reply": "2022-11-23T14:47:20.471649Z",
     "shell.execute_reply.started": "2022-11-23T14:47:20.304026Z"
    }
   },
   "outputs": [
    {
     "name": "stdout",
     "output_type": "stream",
     "text": [
      "Model: \"model_22\"\n",
      "_________________________________________________________________\n",
      "Layer (type)                 Output Shape              Param #   \n",
      "=================================================================\n",
      "input_23 (InputLayer)        [(None, None, None, 3)]   0         \n",
      "_________________________________________________________________\n",
      "model_20 (Functional)        (None, 512)               11190912  \n",
      "_________________________________________________________________\n",
      "dense_8 (Dense)              (None, 128)               65664     \n",
      "_________________________________________________________________\n",
      "dense_9 (Dense)              (None, 10)                1290      \n",
      "=================================================================\n",
      "Total params: 11,257,866\n",
      "Trainable params: 66,954\n",
      "Non-trainable params: 11,190,912\n",
      "_________________________________________________________________\n"
     ]
    }
   ],
   "source": [
    "baseResNetModel.trainable = False\n",
    "ClassifierModel = Model(baseResNetModel, nClasses = 10)\n",
    "ClassifierModel.summary()"
   ]
  },
  {
   "cell_type": "code",
   "execution_count": 29,
   "metadata": {
    "execution": {
     "iopub.execute_input": "2022-11-23T14:47:20.474409Z",
     "iopub.status.busy": "2022-11-23T14:47:20.474062Z",
     "iopub.status.idle": "2022-11-23T14:50:25.176842Z",
     "shell.execute_reply": "2022-11-23T14:50:25.175910Z",
     "shell.execute_reply.started": "2022-11-23T14:47:20.474374Z"
    }
   },
   "outputs": [
    {
     "name": "stdout",
     "output_type": "stream",
     "text": [
      "\n",
      "epoch 1/100\n",
      "18/19 [===========================>..] - ETA: 0s - Loss: 2.2760 - Accuracy: 0.1378\n",
      "epoch 2/100\n",
      "18/19 [===========================>..] - ETA: 0s - Loss: 2.2110 - Accuracy: 0.1728\n",
      "epoch 3/100\n",
      "18/19 [===========================>..] - ETA: 0s - Loss: 2.1600 - Accuracy: 0.1992\n",
      "epoch 4/100\n",
      "18/19 [===========================>..] - ETA: 0s - Loss: 2.1160 - Accuracy: 0.2282\n",
      "epoch 5/100\n",
      "18/19 [===========================>..] - ETA: 0s - Loss: 2.0790 - Accuracy: 0.2499\n",
      "epoch 6/100\n",
      "18/19 [===========================>..] - ETA: 0s - Loss: 2.0460 - Accuracy: 0.2696\n",
      "epoch 7/100\n",
      "18/19 [===========================>..] - ETA: 0s - Loss: 2.0160 - Accuracy: 0.2855\n",
      "epoch 8/100\n",
      "18/19 [===========================>..] - ETA: 0s - Loss: 1.9900 - Accuracy: 0.2986\n",
      "epoch 9/100\n",
      "18/19 [===========================>..] - ETA: 0s - Loss: 1.9660 - Accuracy: 0.3097\n",
      "epoch 10/100\n",
      "18/19 [===========================>..] - ETA: 0s - Loss: 1.9440 - Accuracy: 0.3188\n",
      "epoch 11/100\n",
      "18/19 [===========================>..] - ETA: 0s - Loss: 1.9240 - Accuracy: 0.3267\n",
      "epoch 12/100\n",
      "18/19 [===========================>..] - ETA: 0s - Loss: 1.9050 - Accuracy: 0.3336\n",
      "epoch 13/100\n",
      "18/19 [===========================>..] - ETA: 0s - Loss: 1.8880 - Accuracy: 0.3413\n",
      "epoch 14/100\n",
      "18/19 [===========================>..] - ETA: 0s - Loss: 1.8720 - Accuracy: 0.3482\n",
      "epoch 15/100\n",
      "18/19 [===========================>..] - ETA: 0s - Loss: 1.8570 - Accuracy: 0.3530\n",
      "epoch 16/100\n",
      "18/19 [===========================>..] - ETA: 0s - Loss: 1.8430 - Accuracy: 0.3569\n",
      "epoch 17/100\n",
      "18/19 [===========================>..] - ETA: 0s - Loss: 1.8310 - Accuracy: 0.3602\n",
      "epoch 18/100\n",
      "18/19 [===========================>..] - ETA: 0s - Loss: 1.8190 - Accuracy: 0.3645\n",
      "epoch 19/100\n",
      "18/19 [===========================>..] - ETA: 0s - Loss: 1.8080 - Accuracy: 0.3689\n",
      "epoch 20/100\n",
      "18/19 [===========================>..] - ETA: 0s - Loss: 1.7970 - Accuracy: 0.3721\n",
      "epoch 21/100\n",
      "18/19 [===========================>..] - ETA: 0s - Loss: 1.7870 - Accuracy: 0.3756\n",
      "epoch 22/100\n",
      "18/19 [===========================>..] - ETA: 0s - Loss: 1.7780 - Accuracy: 0.3789\n",
      "epoch 23/100\n",
      "18/19 [===========================>..] - ETA: 0s - Loss: 1.7700 - Accuracy: 0.3817\n",
      "epoch 24/100\n",
      "18/19 [===========================>..] - ETA: 0s - Loss: 1.7620 - Accuracy: 0.3848\n",
      "epoch 25/100\n",
      "18/19 [===========================>..] - ETA: 0s - Loss: 1.7540 - Accuracy: 0.3891\n",
      "epoch 26/100\n",
      "18/19 [===========================>..] - ETA: 0s - Loss: 1.7470 - Accuracy: 0.3907\n",
      "epoch 27/100\n",
      "18/19 [===========================>..] - ETA: 0s - Loss: 1.7400 - Accuracy: 0.3943\n",
      "epoch 28/100\n",
      "18/19 [===========================>..] - ETA: 0s - Loss: 1.7330 - Accuracy: 0.3974\n",
      "epoch 29/100\n",
      "18/19 [===========================>..] - ETA: 0s - Loss: 1.7270 - Accuracy: 0.3996\n",
      "epoch 30/100\n",
      "18/19 [===========================>..] - ETA: 0s - Loss: 1.7210 - Accuracy: 0.4014\n",
      "epoch 31/100\n",
      "18/19 [===========================>..] - ETA: 0s - Loss: 1.7160 - Accuracy: 0.4035\n",
      "epoch 32/100\n",
      "18/19 [===========================>..] - ETA: 0s - Loss: 1.7100 - Accuracy: 0.4050\n",
      "epoch 33/100\n",
      "18/19 [===========================>..] - ETA: 0s - Loss: 1.7050 - Accuracy: 0.4073\n",
      "epoch 34/100\n",
      "18/19 [===========================>..] - ETA: 0s - Loss: 1.7000 - Accuracy: 0.4081\n",
      "epoch 35/100\n",
      "18/19 [===========================>..] - ETA: 0s - Loss: 1.6950 - Accuracy: 0.4108\n",
      "epoch 36/100\n",
      "18/19 [===========================>..] - ETA: 0s - Loss: 1.6900 - Accuracy: 0.4119\n",
      "epoch 37/100\n",
      "18/19 [===========================>..] - ETA: 0s - Loss: 1.6860 - Accuracy: 0.4134\n",
      "epoch 38/100\n",
      "18/19 [===========================>..] - ETA: 0s - Loss: 1.6820 - Accuracy: 0.4146\n",
      "epoch 39/100\n",
      "18/19 [===========================>..] - ETA: 0s - Loss: 1.6780 - Accuracy: 0.4166\n",
      "epoch 40/100\n",
      "18/19 [===========================>..] - ETA: 0s - Loss: 1.6740 - Accuracy: 0.4176\n",
      "epoch 41/100\n",
      "18/19 [===========================>..] - ETA: 0s - Loss: 1.6700 - Accuracy: 0.4197\n",
      "epoch 42/100\n",
      "18/19 [===========================>..] - ETA: 0s - Loss: 1.6660 - Accuracy: 0.4217\n",
      "epoch 43/100\n",
      "18/19 [===========================>..] - ETA: 0s - Loss: 1.6620 - Accuracy: 0.4232\n",
      "epoch 44/100\n",
      "18/19 [===========================>..] - ETA: 0s - Loss: 1.6590 - Accuracy: 0.4242\n",
      "epoch 45/100\n",
      "18/19 [===========================>..] - ETA: 0s - Loss: 1.6550 - Accuracy: 0.4256\n",
      "epoch 46/100\n",
      "18/19 [===========================>..] - ETA: 0s - Loss: 1.6520 - Accuracy: 0.4273\n",
      "epoch 47/100\n",
      "18/19 [===========================>..] - ETA: 0s - Loss: 1.6490 - Accuracy: 0.4292\n",
      "epoch 48/100\n",
      "18/19 [===========================>..] - ETA: 0s - Loss: 1.6450 - Accuracy: 0.4307\n",
      "epoch 49/100\n",
      "18/19 [===========================>..] - ETA: 0s - Loss: 1.6420 - Accuracy: 0.4316\n",
      "epoch 50/100\n",
      "18/19 [===========================>..] - ETA: 0s - Loss: 1.6390 - Accuracy: 0.4325\n",
      "epoch 51/100\n",
      "18/19 [===========================>..] - ETA: 0s - Loss: 1.6360 - Accuracy: 0.4335\n",
      "epoch 52/100\n",
      "18/19 [===========================>..] - ETA: 0s - Loss: 1.6330 - Accuracy: 0.4340\n",
      "epoch 53/100\n",
      "18/19 [===========================>..] - ETA: 0s - Loss: 1.6300 - Accuracy: 0.4353\n",
      "epoch 54/100\n",
      "18/19 [===========================>..] - ETA: 0s - Loss: 1.6280 - Accuracy: 0.4365\n",
      "epoch 55/100\n",
      "18/19 [===========================>..] - ETA: 0s - Loss: 1.6250 - Accuracy: 0.4377\n",
      "epoch 56/100\n",
      "18/19 [===========================>..] - ETA: 0s - Loss: 1.6220 - Accuracy: 0.4390\n",
      "epoch 57/100\n",
      "18/19 [===========================>..] - ETA: 0s - Loss: 1.6190 - Accuracy: 0.4404\n",
      "epoch 58/100\n",
      "18/19 [===========================>..] - ETA: 0s - Loss: 1.6170 - Accuracy: 0.4415\n",
      "epoch 59/100\n",
      "18/19 [===========================>..] - ETA: 0s - Loss: 1.6140 - Accuracy: 0.4420\n",
      "epoch 60/100\n",
      "18/19 [===========================>..] - ETA: 0s - Loss: 1.6120 - Accuracy: 0.4438\n",
      "epoch 61/100\n",
      "18/19 [===========================>..] - ETA: 0s - Loss: 1.6090 - Accuracy: 0.4442\n",
      "epoch 62/100\n",
      "18/19 [===========================>..] - ETA: 0s - Loss: 1.6070 - Accuracy: 0.4448\n",
      "epoch 63/100\n",
      "18/19 [===========================>..] - ETA: 0s - Loss: 1.6040 - Accuracy: 0.4454\n",
      "epoch 64/100\n",
      "18/19 [===========================>..] - ETA: 0s - Loss: 1.6020 - Accuracy: 0.4460\n",
      "epoch 65/100\n",
      "18/19 [===========================>..] - ETA: 0s - Loss: 1.6000 - Accuracy: 0.4476\n",
      "epoch 66/100\n",
      "18/19 [===========================>..] - ETA: 0s - Loss: 1.5970 - Accuracy: 0.4484\n",
      "epoch 67/100\n",
      "18/19 [===========================>..] - ETA: 0s - Loss: 1.5950 - Accuracy: 0.4491\n",
      "epoch 68/100\n",
      "18/19 [===========================>..] - ETA: 0s - Loss: 1.5930 - Accuracy: 0.4505\n",
      "epoch 69/100\n",
      "18/19 [===========================>..] - ETA: 0s - Loss: 1.5910 - Accuracy: 0.4518\n",
      "epoch 70/100\n",
      "18/19 [===========================>..] - ETA: 0s - Loss: 1.5880 - Accuracy: 0.4530\n",
      "epoch 71/100\n",
      "18/19 [===========================>..] - ETA: 0s - Loss: 1.5860 - Accuracy: 0.4539\n",
      "epoch 72/100\n",
      "18/19 [===========================>..] - ETA: 0s - Loss: 1.5840 - Accuracy: 0.4547\n",
      "epoch 73/100\n",
      "18/19 [===========================>..] - ETA: 0s - Loss: 1.5820 - Accuracy: 0.4554\n",
      "epoch 74/100\n",
      "18/19 [===========================>..] - ETA: 0s - Loss: 1.5800 - Accuracy: 0.4563\n",
      "epoch 75/100\n",
      "18/19 [===========================>..] - ETA: 0s - Loss: 1.5780 - Accuracy: 0.4578\n",
      "epoch 76/100\n",
      "18/19 [===========================>..] - ETA: 0s - Loss: 1.5760 - Accuracy: 0.4588\n",
      "epoch 77/100\n",
      "18/19 [===========================>..] - ETA: 0s - Loss: 1.5740 - Accuracy: 0.4597\n",
      "epoch 78/100\n",
      "18/19 [===========================>..] - ETA: 0s - Loss: 1.5720 - Accuracy: 0.4604\n",
      "epoch 79/100\n",
      "18/19 [===========================>..] - ETA: 0s - Loss: 1.5700 - Accuracy: 0.4609\n",
      "epoch 80/100\n",
      "18/19 [===========================>..] - ETA: 0s - Loss: 1.5690 - Accuracy: 0.4618\n",
      "epoch 81/100\n",
      "18/19 [===========================>..] - ETA: 0s - Loss: 1.5670 - Accuracy: 0.4624\n",
      "epoch 82/100\n",
      "18/19 [===========================>..] - ETA: 0s - Loss: 1.5650 - Accuracy: 0.4634\n",
      "epoch 83/100\n",
      "18/19 [===========================>..] - ETA: 0s - Loss: 1.5630 - Accuracy: 0.4647\n",
      "epoch 84/100\n",
      "18/19 [===========================>..] - ETA: 0s - Loss: 1.5610 - Accuracy: 0.4650\n",
      "epoch 85/100\n",
      "18/19 [===========================>..] - ETA: 0s - Loss: 1.5600 - Accuracy: 0.4659\n",
      "epoch 86/100\n",
      "18/19 [===========================>..] - ETA: 0s - Loss: 1.5580 - Accuracy: 0.4664\n",
      "epoch 87/100\n",
      "18/19 [===========================>..] - ETA: 0s - Loss: 1.5560 - Accuracy: 0.4666\n",
      "epoch 88/100\n",
      "18/19 [===========================>..] - ETA: 0s - Loss: 1.5550 - Accuracy: 0.4674\n",
      "epoch 89/100\n",
      "18/19 [===========================>..] - ETA: 0s - Loss: 1.5530 - Accuracy: 0.4685\n",
      "epoch 90/100\n",
      "18/19 [===========================>..] - ETA: 0s - Loss: 1.5510 - Accuracy: 0.4697\n",
      "epoch 91/100\n",
      "18/19 [===========================>..] - ETA: 0s - Loss: 1.5500 - Accuracy: 0.4701\n",
      "epoch 92/100\n",
      "18/19 [===========================>..] - ETA: 0s - Loss: 1.5480 - Accuracy: 0.4703\n",
      "epoch 93/100\n",
      "18/19 [===========================>..] - ETA: 0s - Loss: 1.5470 - Accuracy: 0.4710\n",
      "epoch 94/100\n",
      "18/19 [===========================>..] - ETA: 0s - Loss: 1.5450 - Accuracy: 0.4714\n",
      "epoch 95/100\n",
      "18/19 [===========================>..] - ETA: 0s - Loss: 1.5440 - Accuracy: 0.4723\n",
      "epoch 96/100\n",
      "18/19 [===========================>..] - ETA: 0s - Loss: 1.5420 - Accuracy: 0.4732\n",
      "epoch 97/100\n",
      "18/19 [===========================>..] - ETA: 0s - Loss: 1.5400 - Accuracy: 0.4735\n",
      "epoch 98/100\n",
      "18/19 [===========================>..] - ETA: 0s - Loss: 1.5390 - Accuracy: 0.4742\n",
      "epoch 99/100\n",
      "18/19 [===========================>..] - ETA: 0s - Loss: 1.5370 - Accuracy: 0.4746\n",
      "epoch 100/100\n",
      "18/19 [===========================>..] - ETA: 0s - Loss: 1.5360 - Accuracy: 0.4754"
     ]
    }
   ],
   "source": [
    "epochs = 100\n",
    "for epoch in range(epochs):\n",
    "    print(\"\\nepoch {}/{}\".format(epoch+1,epochs))\n",
    "    Acc.reset_states()\n",
    "    pb = tf.keras.utils.Progbar(len(trainClfDataloader),stateful_metrics=[\"Loss\",\"Accuracy\"])\n",
    "    for batch,data in enumerate(trainClfDataloader):\n",
    "        imgs, labels = data\n",
    "        labels = tf.keras.utils.to_categorical(labels,num_classes=10)\n",
    "        \n",
    "        ##Forward pass the model\n",
    "        with tf.GradientTape() as tape:\n",
    "            pred = ClassifierModel(imgs)\n",
    "            loss = loss_fn(labels,pred)\n",
    "            Acc.update_state(labels,pred)\n",
    "           \n",
    "        grads = tape.gradient(loss, ClassifierModel.trainable_weights)\n",
    "        optimizer.apply_gradients(zip(grads,ClassifierModel.trainable_weights))\n",
    "        pb.update(batch,values=[(\"Loss\",round(loss.numpy(),3)),(\"Accuracy\",Acc.result().numpy())])"
   ]
  },
  {
   "cell_type": "code",
   "execution_count": null,
   "metadata": {},
   "outputs": [],
   "source": [
    "ClassifierModel.save(\"ClassifierModel.h5\")"
   ]
  },
  {
   "cell_type": "code",
   "execution_count": 31,
   "metadata": {
    "execution": {
     "iopub.execute_input": "2022-11-23T15:24:27.762350Z",
     "iopub.status.busy": "2022-11-23T15:24:27.761943Z",
     "iopub.status.idle": "2022-11-23T15:24:28.627354Z",
     "shell.execute_reply": "2022-11-23T15:24:28.626237Z",
     "shell.execute_reply.started": "2022-11-23T15:24:27.762285Z"
    }
   },
   "outputs": [
    {
     "name": "stdout",
     "output_type": "stream",
     "text": [
      "Classifier Accuracy on cifar 10 test dataset 0.4391\n"
     ]
    }
   ],
   "source": [
    "### Checking classifier accuracy on cifar 10 test dataset\n",
    "Acc.reset_states()\n",
    "for batch,data in enumerate(testClfDataloader):\n",
    "    imgs, labels = data\n",
    "    labels = tf.keras.utils.to_categorical(labels)\n",
    "    \n",
    "    ##Forward pass the model\n",
    "    with tf.GradientTape() as tape:\n",
    "        pred = ClassifierModel(imgs,training=False)\n",
    "        Acc.update_state(labels,pred)\n",
    "print(\"Classifier Accuracy on cifar 10 test dataset\",Acc.result().numpy())"
   ]
  },
  {
   "cell_type": "code",
   "execution_count": 32,
   "metadata": {
    "execution": {
     "iopub.execute_input": "2022-11-23T15:24:28.630851Z",
     "iopub.status.busy": "2022-11-23T15:24:28.630170Z",
     "iopub.status.idle": "2022-11-23T15:24:31.349053Z",
     "shell.execute_reply": "2022-11-23T15:24:31.348000Z",
     "shell.execute_reply.started": "2022-11-23T15:24:28.630806Z"
    }
   },
   "outputs": [
    {
     "name": "stdout",
     "output_type": "stream",
     "text": [
      "Rototional Accuracy on cifar 10 test set 0.6663\n"
     ]
    }
   ],
   "source": [
    "### Checking rotational accuracy on classifier test dataset\n",
    "Acc.reset_states()\n",
    "for batch,data in enumerate(testClfDataloader):\n",
    "    imgs, labels = data\n",
    "    size = imgs.shape[0]\n",
    "\n",
    "    ## Generate Rotated Images and stack them\n",
    "    transformedImgs = np.vstack([imgs,np.flip(np.transpose(imgs,(0,2,1,3)),axis = 2),\n",
    "                          np.flip(imgs,axis= 1),np.transpose(imgs,(0,2,1,3))])\n",
    "\n",
    "    ## Generate one-hot labels for rotation\n",
    "    labels = np.zeros((size*4,4))\n",
    "    for i in range(4):\n",
    "        labels[(i*size):((i+1)*size),i] = 1\n",
    "        \n",
    "    ##Forward pass the model\n",
    "    with tf.GradientTape() as tape:\n",
    "        pred = RotationModel(transformedImgs,training=False)\n",
    "        Acc.update_state(labels,pred)\n",
    "print(\"Rototional Accuracy on cifar 10 test set\",Acc.result().numpy())"
   ]
  },
  {
   "cell_type": "code",
   "execution_count": null,
   "metadata": {},
   "outputs": [],
   "source": []
  }
 ],
 "metadata": {
  "kernelspec": {
   "display_name": "Python 3 (ipykernel)",
   "language": "python",
   "name": "python3"
  },
  "language_info": {
   "codemirror_mode": {
    "name": "ipython",
    "version": 3
   },
   "file_extension": ".py",
   "mimetype": "text/x-python",
   "name": "python",
   "nbconvert_exporter": "python",
   "pygments_lexer": "ipython3",
   "version": "3.9.7"
  }
 },
 "nbformat": 4,
 "nbformat_minor": 4
}
