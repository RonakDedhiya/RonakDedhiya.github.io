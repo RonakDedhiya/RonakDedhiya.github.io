{
 "cells": [
  {
   "cell_type": "markdown",
   "metadata": {},
   "source": [
    "Write a program to compute the decimal equaivalent of the given binary string ( represented as IEEE754 format ). \n",
    "\n",
    "\n",
    "\n",
    "DENORMALISED NUMBERS :\n",
    "\n",
    "----------------------\n",
    "\n",
    "\n",
    "\n",
    "When the exponent part is all zero, then the following formula have to be used for denormalized value computation \n",
    "\n",
    "\n",
    "\n",
    "Actual Exponent(E) =  1 - Bias \n",
    "\n",
    "\n",
    "\n",
    "Value    =  (-1)^sign * 2^E *(f)\n",
    "\n",
    "\n",
    "\n",
    "NORMALISED NUMBERS :\n",
    "\n",
    "---------------------\n",
    "\n",
    "Actual Exponent(E) =  e - Bias \n",
    "\n",
    "Value    =  (-1)^sign * 2^E *(1+f)\n",
    "\n",
    "For Explanation regarding the terms, Follow the instructions given during Tutorial Sessions. \n",
    "\n",
    "INPUTS :\n",
    "\n",
    "--------\n",
    "\n",
    "There are total of 4 inputs to the functions, \n",
    "\n",
    "\t1\t-- String array of 1's and 0's to be converted to decimal\n",
    "\n",
    "\t2   -- Number of bits for Sign( 1 Constant )\n",
    "\n",
    "\t3   -- number of Bits for exponent \n",
    "\n",
    "\t4   -- Number of bits for Mantissa\n",
    "\n",
    "\n",
    "\n",
    "Your program should be able to convert the given binary string into floating point representation for any values of exponent bits and Mantissa bits ( i,e Half precision, full precsion, double precision etc)\n",
    "\n",
    "It can be assured that the sum of last three input parameters( sign + exponent + mantissa) will be equal to the length of the binary string which is sent in first parameter \n",
    "\n",
    "\n",
    "\n",
    "OUTPUT: \n",
    "\n",
    "--------------\n",
    "\n",
    "The function should output the floating point value of the given binary string ( in IEEE754 format ). The function should also output all the special outputs possible in the same format (  as string ) mentioned below with the sign \n",
    "\n",
    "\t\"-inf\", \"+inf\" ,\"-NaN\" , \"+NaN\"\n",
    "\n",
    "\n",
    "\n",
    "Note : For this problem , zero neednot be signed, i.e the zero value can be returned as a float value as 0 irrespective of the sign bit. \n",
    "\n",
    "\n",
    "\n",
    "SAMPLE TEST CASES :\n",
    "\n",
    "-----------------------------------\n",
    "\n",
    "IEEE754todecimal(\"00000000\",1,4,3)  => 0    (float)\n",
    "\n",
    "IEEE754todecimal(\"10000000\",1,4,3)  => 0    (float)\n",
    "\n",
    "\n",
    "\n",
    "## Denormalised \n",
    "\n",
    "IEEE754todecimal(\"00000001\",1,4,3) => 0.001953  (float)\n",
    "\n",
    "## Normalised \n",
    "\n",
    "IEEE754todecimal(\"10111001\",1,4,3) => -1.125  (float)\n",
    "\n",
    "## Special \n",
    "\n",
    "IEEE754todecimal(\"01111000\",1,4,3) => \"+inf\"  (String)"
   ]
  },
  {
   "cell_type": "code",
   "execution_count": 87,
   "metadata": {},
   "outputs": [],
   "source": [
    "def convertToDecimal(binary):\n",
    "    sum = 0\n",
    "    for i in range(len(binary)):\n",
    "        sum += int(binary[i]) * 2**(len(binary) - 1 - i)\n",
    "    return sum\n",
    "    \n",
    "def IEEE754todecimal(number,N_SIGNBIT,N_EXPONENT,N_MANTISSA):\n",
    "\n",
    "    ## IMPORTANT : Write your name here \n",
    "    NAME = \"Ronak Dedhiya\"\n",
    "    \n",
    "    ## TO DO \n",
    "    sgn = int(number[0])\n",
    "    exp = convertToDecimal(number[N_SIGNBIT:N_EXPONENT+N_SIGNBIT])\n",
    "    bias = 2**(N_EXPONENT - 1) - 1\n",
    "    f = convertToDecimal(number[N_SIGNBIT+N_EXPONENT:])/2**(N_MANTISSA)\n",
    "    if exp == 0:\n",
    "        E = 1 - bias\n",
    "        value = 2**(E) * f\n",
    "        if value != 0.0:\n",
    "            value = ((-1)**(sgn)) * value\n",
    "    elif exp == 2**(N_EXPONENT) - 1:\n",
    "        if f == 0.0:\n",
    "            value = \"inf\"\n",
    "        else:\n",
    "            value = \"NaN\"\n",
    "\n",
    "        if sgn == 0:\n",
    "            value = \"+\" + value\n",
    "        else:\n",
    "            value = \"-\" + value\n",
    "    \n",
    "    else:\n",
    "        E = exp - bias\n",
    "        value = ((-1)**(sgn)) * 2**(E) * (1 + f)\n",
    "        \n",
    "    ## return NAME nd value( decimal equivalent of given Binary String )     \n",
    "    return NAME,value;"
   ]
  },
  {
   "cell_type": "code",
   "execution_count": 9,
   "metadata": {},
   "outputs": [],
   "source": []
  },
  {
   "cell_type": "code",
   "execution_count": 89,
   "metadata": {},
   "outputs": [
    {
     "name": "stdout",
     "output_type": "stream",
     "text": [
      "+NaN\n"
     ]
    }
   ],
   "source": [
    "a,b = IEEE754todecimal(\"01111111100000000000000000000001\",1,8,23) \n",
    "print(b)"
   ]
  },
  {
   "cell_type": "code",
   "execution_count": 35,
   "metadata": {},
   "outputs": [
    {
     "data": {
      "text/plain": [
       "0"
      ]
     },
     "execution_count": 35,
     "metadata": {},
     "output_type": "execute_result"
    }
   ],
   "source": [
    "convertToDecimal(\"0000\")"
   ]
  }
 ],
 "metadata": {
  "interpreter": {
   "hash": "ba06f5c1e7e9f2eb82dbba6d3723812165debfee4b0f8bc9b2da7bbd91660d0f"
  },
  "kernelspec": {
   "display_name": "Python 3.9.7 64-bit ('base': conda)",
   "language": "python",
   "name": "python3"
  },
  "language_info": {
   "codemirror_mode": {
    "name": "ipython",
    "version": 3
   },
   "file_extension": ".py",
   "mimetype": "text/x-python",
   "name": "python",
   "nbconvert_exporter": "python",
   "pygments_lexer": "ipython3",
   "version": "3.9.7"
  },
  "orig_nbformat": 4
 },
 "nbformat": 4,
 "nbformat_minor": 2
}
